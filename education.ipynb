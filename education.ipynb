{
  "nbformat": 4,
  "nbformat_minor": 0,
  "metadata": {
    "colab": {
      "provenance": []
    },
    "kernelspec": {
      "name": "python3",
      "display_name": "Python 3"
    },
    "language_info": {
      "name": "python"
    }
  },
  "cells": [
    {
      "cell_type": "code",
      "source": [
        "name = (input(\"Name\\n\"))\n",
        "print(\"Hello, \", name, \"!\")\n",
        "print(\"Hello, \", name, \"!\", sep=\"\")\n",
        "print(\"Hello, \", name, \"!\", sep=\"\\n\")\n",
        "print(\"Hello, \", name, \"!\", sep=\"\\t\")\n",
        "print(f\"Hello, {name}!!!\")"
      ],
      "metadata": {
        "id": "7N3pSYM6rMVs",
        "colab": {
          "base_uri": "https://localhost:8080/"
        },
        "outputId": "2d8aba2a-55f6-4422-e871-3fbd453f3009"
      },
      "execution_count": 1,
      "outputs": [
        {
          "output_type": "stream",
          "name": "stdout",
          "text": [
            "Name\n",
            "Anna\n",
            "Hello,  Anna !\n",
            "Hello, Anna!\n",
            "Hello, \n",
            "Anna\n",
            "!\n",
            "Hello, \tAnna\t!\n",
            "Hello, Anna!!!\n"
          ]
        }
      ]
    },
    {
      "cell_type": "code",
      "source": [
        "print(f\"{123:0>9}\")\n",
        "print(f\"{123:0<9}\")\n",
        "print(f\"{123:0^9}\")\n",
        "print(f\"{123}\")\n",
        "print(f\"{123}\")\n",
        "print(f\"{123}\")"
      ],
      "metadata": {
        "id": "_m3VaCDkwqVs",
        "colab": {
          "base_uri": "https://localhost:8080/"
        },
        "outputId": "f13ea8ea-f6bb-4fb3-f7a9-6effe70063a4"
      },
      "execution_count": 2,
      "outputs": [
        {
          "output_type": "stream",
          "name": "stdout",
          "text": [
            "000000123\n",
            "123000000\n",
            "000123000\n",
            "123\n",
            "123\n",
            "123\n"
          ]
        }
      ]
    },
    {
      "cell_type": "code",
      "source": [
        "x = 5 // 3\n",
        "y = 5 % 3\n",
        "print (x)\n",
        "print (y)"
      ],
      "metadata": {
        "colab": {
          "base_uri": "https://localhost:8080/"
        },
        "id": "6KUPpqXw3ppZ",
        "outputId": "78b5f1e7-6b28-497a-dc24-d45452fb79a1"
      },
      "execution_count": 3,
      "outputs": [
        {
          "output_type": "stream",
          "name": "stdout",
          "text": [
            "1\n",
            "2\n"
          ]
        }
      ]
    },
    {
      "cell_type": "code",
      "source": [
        "a = 123456\n",
        "print(a // 100000)\n",
        "print(a // 10)\n",
        "print(a % 10)\n",
        "print(a % 100)\n",
        "print(a // 10 % 10)"
      ],
      "metadata": {
        "colab": {
          "base_uri": "https://localhost:8080/"
        },
        "id": "JR6IvQua4DZj",
        "outputId": "f079e8ea-0f82-494f-9bb7-b18446d19376"
      },
      "execution_count": 4,
      "outputs": [
        {
          "output_type": "stream",
          "name": "stdout",
          "text": [
            "1\n",
            "12345\n",
            "6\n",
            "56\n",
            "5\n"
          ]
        }
      ]
    },
    {
      "cell_type": "code",
      "source": [
        "weight = float(input())\n",
        "price = int(input())\n",
        "cash = int(input())\n",
        "total = weight * price\n",
        "change = (cash - total)\n",
        "print(int(change))"
      ],
      "metadata": {
        "colab": {
          "base_uri": "https://localhost:8080/"
        },
        "id": "2XpzNMbE5tcm",
        "outputId": "d965c8b8-8b3a-4fdf-9595-914cee1248d1"
      },
      "execution_count": 5,
      "outputs": [
        {
          "output_type": "stream",
          "name": "stdout",
          "text": [
            "2\n",
            "10\n",
            "50\n",
            "30\n"
          ]
        }
      ]
    },
    {
      "cell_type": "code",
      "source": [
        "name = (input(\"Product name\\n\"))\n",
        "price = int(input(\"Price\\n\"))\n",
        "weight = int(input(\"Weight\\n\"))\n",
        "money = int(input(\"Money\\n\"))\n",
        "total = price * weight\n",
        "change = money - total\n",
        "print(\"Receipt\")\n",
        "print(f\"{name} - {weight}kg - {price}rub./kg\")\n",
        "print(f\"Total: {total} rub.\")\n",
        "print(f\"Cash tendered: {money} rub.\")\n",
        "print(f\"Change: {change} rub.\")"
      ],
      "metadata": {
        "colab": {
          "base_uri": "https://localhost:8080/"
        },
        "id": "DQ_LXPqf5znv",
        "outputId": "63935419-fe29-47ee-bca2-73659f66836f"
      },
      "execution_count": 6,
      "outputs": [
        {
          "output_type": "stream",
          "name": "stdout",
          "text": [
            "Product name\n",
            "cherry\n",
            "Price\n",
            "20\n",
            "Weight\n",
            "5\n",
            "Money\n",
            "50\n",
            "Receipt\n",
            "cherry - 5kg - 20rub./kg\n",
            "Total: 100 rub.\n",
            "Cash tendered: 50 rub.\n",
            "Change: -50 rub.\n"
          ]
        }
      ]
    },
    {
      "cell_type": "code",
      "source": [
        "times = int(input(\"Times\\n\"))\n",
        "sentance = str(input(\"Sentance\\n\"))\n",
        "print(f'I will never write again \"{sentance}\"!\\n' * times)"
      ],
      "metadata": {
        "colab": {
          "base_uri": "https://localhost:8080/"
        },
        "id": "8ISljfgTAAnd",
        "outputId": "921211f4-f60f-4b4e-a548-d9ee1d05c07a"
      },
      "execution_count": 7,
      "outputs": [
        {
          "output_type": "stream",
          "name": "stdout",
          "text": [
            "Times\n",
            "2\n",
            "Sentance\n",
            "blablabla\n",
            "I will never write again \"blablabla\"!\n",
            "I will never write again \"blablabla\"!\n",
            "\n"
          ]
        }
      ]
    },
    {
      "cell_type": "code",
      "source": [
        "minutes = int(input(\"Minutes\\n\"))\n",
        "children = int(input(\"Children\\n\"))\n",
        "print(f\"Number of eaten sandwiches\\n{minutes // 2 * children}\")"
      ],
      "metadata": {
        "colab": {
          "base_uri": "https://localhost:8080/"
        },
        "id": "S_AfCzkPLKD3",
        "outputId": "83b1a161-d3a8-4281-96dc-3eb0da2d1d33"
      },
      "execution_count": 8,
      "outputs": [
        {
          "output_type": "stream",
          "name": "stdout",
          "text": [
            "Minutes\n",
            "15\n",
            "Children\n",
            "5\n",
            "Number of eaten sandwiches\n",
            "35\n"
          ]
        }
      ]
    },
    {
      "cell_type": "code",
      "source": [
        "name = input(\"Name\\n\")\n",
        "locker_number = input(\"Locker number\\n\")\n",
        "print(f\"Group №{locker_number[0]}.\")\n",
        "print(f\"{locker_number[2]}. {name}.\")\n",
        "print(f\"Locker: {locker_number}.\")\n",
        "print(f\"Bed: {locker_number[1]}.\")"
      ],
      "metadata": {
        "colab": {
          "base_uri": "https://localhost:8080/"
        },
        "id": "x9dgT23XMB-S",
        "outputId": "9d7345d0-030a-407d-87ff-a26f50ba28fa"
      },
      "execution_count": 10,
      "outputs": [
        {
          "output_type": "stream",
          "name": "stdout",
          "text": [
            "Name\n",
            "Ivan\n",
            "Locker number\n",
            "346\n",
            "Group №3.\n",
            "6. Ivan.\n",
            "Locker: 346.\n",
            "Bed: 4.\n"
          ]
        }
      ]
    },
    {
      "cell_type": "code",
      "source": [
        "number_1 = int(input(\"Number one\\n\"))\n",
        "number_2 = int(input(\"Number two\\n\"))\n",
        "right = ((number_1 % 10) + (number_2 % 10)) % 10\n",
        "middle = ((number_1 // 10 % 10) + (number_2 // 10 % 10)) % 10\n",
        "left = ((number_1 // 100) + (number_2 // 100)) % 10\n",
        "print(f\"Addition\\n{left}{middle}{right}\")"
      ],
      "metadata": {
        "colab": {
          "base_uri": "https://localhost:8080/"
        },
        "id": "loA9yaUihwMZ",
        "outputId": "af1ca7f6-483e-43e9-8d72-13eef0255ac6"
      },
      "execution_count": null,
      "outputs": [
        {
          "output_type": "stream",
          "name": "stdout",
          "text": [
            "Number one\n",
            "123\n",
            "Number two\n",
            "99\n",
            "Addition\n",
            "112\n"
          ]
        }
      ]
    },
    {
      "cell_type": "code",
      "source": [
        "children = int(input(\"Childen\\n\"))\n",
        "candy = int(input(\"Candies\\n\"))\n",
        "candy_for_one = candy // children\n",
        "leftover = candy % children\n",
        "print(\"Candies for one child\", candy_for_one, sep=\"\\n\")\n",
        "print(\"Leftover\", leftover, sep=\"\\n\")"
      ],
      "metadata": {
        "colab": {
          "base_uri": "https://localhost:8080/"
        },
        "id": "Xign-AN4rPcN",
        "outputId": "bbe40aa1-25e0-4045-f55d-19ff34743824"
      },
      "execution_count": null,
      "outputs": [
        {
          "output_type": "stream",
          "name": "stdout",
          "text": [
            "Childen\n",
            "3\n",
            "Candies\n",
            "100\n",
            "Candies for one child\n",
            "33\n",
            "Leftover\n",
            "1\n"
          ]
        }
      ]
    },
    {
      "cell_type": "code",
      "source": [
        "red = int(input(\"Number of reds\\n\"))\n",
        "green = int(input(\"Number of greens\\n\"))\n",
        "blue = int(input(\"Number of blues\\n\"))\n",
        "probability = (red + blue + 1)\n",
        "print(\"Probability\", probability, sep=\"\\n\")"
      ],
      "metadata": {
        "id": "_189Ntsgs2D8",
        "colab": {
          "base_uri": "https://localhost:8080/"
        },
        "outputId": "756f0a53-dc8a-48be-b69e-c97442ad9378"
      },
      "execution_count": null,
      "outputs": [
        {
          "output_type": "stream",
          "name": "stdout",
          "text": [
            "Number of red\n",
            "2\n",
            "Number of green\n",
            "2\n",
            "Number of blue\n",
            "3\n",
            "Probability\n",
            "6\n"
          ]
        }
      ]
    },
    {
      "cell_type": "code",
      "source": [
        "hours = int(input(\"Hours\\n\"))\n",
        "minutes = int(input(\"Minutes\\n\"))\n",
        "delivered_in_minutes = int(input(\"Delivered in\\n\"))\n",
        "final_hours = (hours + (minutes + delivered_in_minutes) // 60) % 24\n",
        "final_minutes = (minutes + delivered_in_minutes) % 60\n",
        "print(f'{final_hours // 10}{final_hours % 10}:{final_minutes // 10}{final_minutes % 10}')\n"
      ],
      "metadata": {
        "colab": {
          "base_uri": "https://localhost:8080/"
        },
        "id": "WvmJ22AMVkrd",
        "outputId": "c3ec7926-936c-4d56-ffa7-e3971c93b18d"
      },
      "execution_count": null,
      "outputs": [
        {
          "output_type": "stream",
          "name": "stdout",
          "text": [
            "Hours\n",
            "8\n",
            "Minutes\n",
            "0\n",
            "Delivered in\n",
            "15\n",
            "08:15\n"
          ]
        }
      ]
    },
    {
      "cell_type": "code",
      "source": [
        "# T = S:V\n",
        "SA = int(input(\"Point A (S, distance)\\n\"))\n",
        "SB = int(input(\"Point В (S, distance)\\n\"))\n",
        "V = int(input(\"Speed (V)\\n\"))\n",
        "T = round((SB - SA) / V, 3)\n",
        "print(f\"Time (T)\\n{T}\")"
      ],
      "metadata": {
        "colab": {
          "base_uri": "https://localhost:8080/"
        },
        "id": "UEkpb5Qc5r_B",
        "outputId": "4544069e-b824-4a8f-8667-ebc0fb5c4d57"
      },
      "execution_count": 11,
      "outputs": [
        {
          "output_type": "stream",
          "name": "stdout",
          "text": [
            "Point A (S, distance)\n",
            "12\n",
            "Point В (S, distance)\n",
            "30\n",
            "Speed (V)\n",
            "4\n",
            "Time (T)\n",
            "4.5\n"
          ]
        }
      ]
    },
    {
      "cell_type": "code",
      "source": [
        "name = input(\"Product name\\n\")\n",
        "price = int(input(\"Price\\n\"))\n",
        "weight = int(input(\"Weight\\n\"))\n",
        "money = int(input(\"Money\\n\"))\n",
        "total = price * weight\n",
        "change = money - total\n",
        "print(\"=\" * 16, \"Check\", \"=\" * 16, sep=\"\")\n",
        "print(\"Product:\", f\"{name}\".rjust(28))\n",
        "print(\"Price:\", f\"{weight}kg * {price}rub/kg\".rjust(30))\n",
        "print(\"Total:\", f\"{total}rub\".rjust(30))\n",
        "print(\"Cash tendered:\", f\"{money}rub\".rjust(22))\n",
        "print(\"Change:\", f\"{change}rub\".rjust(29))\n",
        "print(\"=\" * 37)"
      ],
      "metadata": {
        "colab": {
          "base_uri": "https://localhost:8080/"
        },
        "id": "UlETrLvB87Vf",
        "outputId": "3424d4bb-73e1-472f-e59c-44e5bf7eb043"
      },
      "execution_count": 19,
      "outputs": [
        {
          "output_type": "stream",
          "name": "stdout",
          "text": [
            "Product name\n",
            "cherry\n",
            "Price\n",
            "12\n",
            "Weight\n",
            "2\n",
            "Money\n",
            "80\n",
            "================Check================\n",
            "Product:                       cherry\n",
            "Price:                 2kg * 12rub/kg\n",
            "Total:                          24rub\n",
            "Cash tendered:                  80rub\n",
            "Change:                         56rub\n",
            "=====================================\n"
          ]
        }
      ]
    },
    {
      "cell_type": "code",
      "source": [
        "yesterday_temp = int(input(\"yesterday temperature\\n\"))\n",
        "today_temp = int(input(\"today temperature\\n\"))\n",
        "if today_temp > yesterday_temp:\n",
        "    print(\"Today's temperature is warmer than it was yesterday.\")\n",
        "elif today_temp < yesterday_temp:\n",
        "    print(\"Today's temperature is colder than it was yesterday.\")\n",
        "else:\n",
        "    print(\"The temperature today is the same as it was yesterday.\")"
      ],
      "metadata": {
        "colab": {
          "base_uri": "https://localhost:8080/"
        },
        "id": "MGz663yRo76e",
        "outputId": "ba69806d-e8cb-4a62-f65a-6ac3ca01416c"
      },
      "execution_count": 20,
      "outputs": [
        {
          "output_type": "stream",
          "name": "stdout",
          "text": [
            "yesterday temperature\n",
            "12\n",
            "today temperature\n",
            "15\n",
            "Today's temperature is warmer than it was yesterday.\n"
          ]
        }
      ]
    },
    {
      "cell_type": "code",
      "source": [
        "name = str(input(\"Name\\n\"))\n",
        "bmi = int(input(\"bmi\\n\"))\n",
        "if bmi > 25:\n",
        "    print('The patient ', name, ' is overweight.')\n",
        "elif bmi == 25:\n",
        "    print('The weight of the patient ', name, 'is close to normal.')\n",
        "else:\n",
        "    print('The patient ', name, ' is not overweight.')"
      ],
      "metadata": {
        "colab": {
          "base_uri": "https://localhost:8080/"
        },
        "id": "-vh5AYADHRCT",
        "outputId": "b6843fcf-05c9-419f-d1ae-6722cc588e86"
      },
      "execution_count": 21,
      "outputs": [
        {
          "output_type": "stream",
          "name": "stdout",
          "text": [
            "Name\n",
            "Ann\n",
            "bmi\n",
            "23\n",
            "The patient  Ann  is not overweight.\n"
          ]
        }
      ]
    },
    {
      "cell_type": "markdown",
      "source": [
        "![Снимок экрана 2024-03-03 в 01.06.24.png](data:image/png;base64,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)"
      ],
      "metadata": {
        "id": "svns3yY9N0Ah"
      }
    },
    {
      "cell_type": "code",
      "source": [
        "print(\"Enter the first and last letters of the Cyrillic alphabet.\")\n",
        "first_letter = input()\n",
        "last_letter = input()\n",
        "if (first_letter == \"а\" or first_letter == \"А\") and (\n",
        "        last_letter == \"я\" or last_letter == \"Я\"):\n",
        "    print(\"Correct.\")\n",
        "else:\n",
        "    print(\"Incorrect.\")"
      ],
      "metadata": {
        "id": "keYOEXzFOC1W",
        "outputId": "0752a980-ef99-4df4-c237-713763ce48d8",
        "colab": {
          "base_uri": "https://localhost:8080/"
        }
      },
      "execution_count": 24,
      "outputs": [
        {
          "output_type": "stream",
          "name": "stdout",
          "text": [
            "Enter the first and last letters of the Cyrillic alphabet.\n",
            "А\n",
            "Я\n",
            "Correct.\n"
          ]
        }
      ]
    }
  ]
}