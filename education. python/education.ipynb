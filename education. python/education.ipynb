{
  "cells": [
    {
      "cell_type": "code",
      "execution_count": 132,
      "metadata": {},
      "outputs": [
        {
          "name": "stdout",
          "output_type": "stream",
          "text": [
            "5,555\n",
            "    5555\n",
            "    5555\n",
            "00005555\n",
            "00005555\n",
            "  5555  \n",
            "00555500\n",
            "        5555        \n",
            "11115555\n",
            "\n"
          ]
        }
      ],
      "source": [
        "number = int(input(\"number?\")) # 5555\n",
        "width = int(input(\"width?\")) # 20\n",
        "\n",
        "print(f\"{number:,}\\n{number:8}\\n{number:>8}\\n{number:0>8}\\n{number:08}\\n{number:^8}\\n{number:0^8}\\n{number:^{width}}\\n{number:1>8}\\n\")"
      ]
    },
    {
      "cell_type": "code",
      "execution_count": 346,
      "metadata": {},
      "outputs": [
        {
          "name": "stdout",
          "output_type": "stream",
          "text": [
            "2.25\n",
            "2\n",
            "1\n",
            "4.679\n"
          ]
        }
      ],
      "source": [
        "division = 9 / 4\n",
        "integer_division = 9 // 4\n",
        "remainder = 9 % 4\n",
        "rounding_up = round(4.67856, 3)\n",
        "\n",
        "print(f\"{division}\\n{integer_division}\\n{remainder}\\n{rounding_up}\")"
      ]
    },
    {
      "cell_type": "markdown",
      "metadata": {},
      "source": [
        "There are 9 slices of pie, so everyone gets 2 and 1 is left over\n",
        "\n",
        "<img alt=\"Pie_division\" src=\"PNG/Pie_division.png\" width=\"140\" height=\"160\" />"
      ]
    },
    {
      "cell_type": "code",
      "execution_count": 127,
      "metadata": {
        "colab": {
          "base_uri": "https://localhost:8080/"
        },
        "id": "JR6IvQua4DZj",
        "outputId": "f079e8ea-0f82-494f-9bb7-b18446d19376"
      },
      "outputs": [
        {
          "name": "stdout",
          "output_type": "stream",
          "text": [
            "9\n",
            "1\n",
            "5\n"
          ]
        }
      ],
      "source": [
        "a = 123456789\n",
        "\n",
        "print(f\"{a % 10}\")\n",
        "print(f\"{a // 100000000}\")\n",
        "print(f\"{a // 10000 % 10}\")"
      ]
    },
    {
      "cell_type": "code",
      "execution_count": 219,
      "metadata": {},
      "outputs": [
        {
          "name": "stdout",
          "output_type": "stream",
          "text": [
            "True\n"
          ]
        }
      ],
      "source": [
        "print( .12 == 0.12)"
      ]
    },
    {
      "cell_type": "code",
      "execution_count": 222,
      "metadata": {},
      "outputs": [
        {
          "name": "stdout",
          "output_type": "stream",
          "text": [
            "97 122\n",
            "a z\n",
            "a < z\n",
            "\n",
            "97 90\n",
            "a Z\n",
            "a > Z\n",
            "\n"
          ]
        }
      ],
      "source": [
        "# ASCII table\n",
        "\n",
        "print(ord(\"a\"), ord(\"z\"))\n",
        "print(chr(97), chr(122))\n",
        "print(f\"a < z\\n\")\n",
        "\n",
        "print(ord(\"a\"), ord(\"Z\"))\n",
        "print(chr(97), chr(90))\n",
        "print(\"a > Z\\n\")"
      ]
    },
    {
      "cell_type": "code",
      "execution_count": 115,
      "metadata": {
        "colab": {
          "base_uri": "https://localhost:8080/"
        },
        "id": "x9dgT23XMB-S",
        "outputId": "9d7345d0-030a-407d-87ff-a26f50ba28fa"
      },
      "outputs": [
        {
          "name": "stdout",
          "output_type": "stream",
          "text": [
            "🔒 123\n",
            "\n",
            "Group: №1\n",
            "\n",
            "Bed 🛏️: 2\n",
            "\n",
            "Order 📋: 3\n",
            "\n"
          ]
        }
      ],
      "source": [
        "locker_number = (input(\"Locker number\\n\"))\n",
        "\n",
        "print(f\"🔒 {locker_number}\\n\")\n",
        "print(f\"Group: №{locker_number[0]}\\n\")\n",
        "print(f\"Bed 🛏️: {locker_number[1]}\\n\")\n",
        "print(f\"Order 📋: {locker_number[2]}\\n\")"
      ]
    },
    {
      "cell_type": "code",
      "execution_count": 230,
      "metadata": {},
      "outputs": [
        {
          "name": "stdout",
          "output_type": "stream",
          "text": [
            "Addition:\n",
            "112\n",
            "\n"
          ]
        }
      ],
      "source": [
        "number_1 = int(input(\"Number one\\n\")) # 123\n",
        "number_2 = int(input(\"Number two\\n\")) #  99\n",
        "\n",
        "third = ((number_1 % 10) + (number_2 % 10)) % 10\n",
        "second = ((number_1 // 10 % 10) + (number_2 // 10 % 10)) % 10\n",
        "first = ((number_1 // 100) + (number_2 // 100)) % 10\n",
        "\n",
        "addition = (f\"{first}{second}{third}\\n\")\n",
        "print(f\"Addition:\\n{addition}\")"
      ]
    },
    {
      "cell_type": "code",
      "execution_count": 538,
      "metadata": {},
      "outputs": [
        {
          "name": "stdout",
          "output_type": "stream",
          "text": [
            "The food will be delivered at ~ 12:33\n",
            "\n"
          ]
        }
      ],
      "source": [
        "hours = int(input(\"Hour?\\n\"))       # 6\n",
        "minutes = int(input(\"Minutes?\\n\"))  # 30\n",
        "hours_to_wait = int(input(\"How long will it take for the food to be delivered (hours)?\\n\"))      # 2\n",
        "minutes_to_wait = int(input(\"How long will it take for the food to be delivered (minutes)?\\n\"))  # 50\n",
        "\n",
        "hours_to_minutes = hours * 60\n",
        "hours_to_wait_to_minutes = hours_to_wait * 60\n",
        "delivery_time_minutes = hours_to_minutes + hours_to_wait_to_minutes + minutes + minutes_to_wait\n",
        "\n",
        "print(f\"The food will be delivered at ~ {delivery_time_minutes // 60}:{delivery_time_minutes % 60}\\n\") # how many hours is in minutes, the remainder of the division is minutes"
      ]
    },
    {
      "cell_type": "code",
      "execution_count": 535,
      "metadata": {},
      "outputs": [
        {
          "name": "stdout",
          "output_type": "stream",
          "text": [
            "The food will be delivered at ~ 09:20\n",
            "\n"
          ]
        }
      ],
      "source": [
        "import datetime\n",
        "\n",
        "order_created_at = datetime.datetime(2024, 5, 14, 6, 30)\n",
        "delivery_time = datetime.timedelta(hours = 2, minutes = 50)\n",
        "\n",
        "time = order_created_at + delivery_time\n",
        "time_delivery = time.strftime(\"%H:%M\")\n",
        "\n",
        "print(f\"The food will be delivered at ~ {time_delivery}\\n\")"
      ]
    },
    {
      "cell_type": "code",
      "execution_count": 359,
      "metadata": {
        "colab": {
          "base_uri": "https://localhost:8080/"
        },
        "id": "UlETrLvB87Vf",
        "outputId": "3424d4bb-73e1-472f-e59c-44e5bf7eb043"
      },
      "outputs": [
        {
          "name": "stdout",
          "output_type": "stream",
          "text": [
            "================Check================\n",
            "Product:                       cherry\n",
            "Price:              2 kg * 100 rub/kg\n",
            "Total:                        200 rub\n",
            "Cash tendered:               1000 rub\n",
            "Change:                       800 rub\n",
            "=====================================\n"
          ]
        }
      ],
      "source": [
        "name = input(\"Product name\\n\")\n",
        "\n",
        "price = int(input(\"Price\\n\"))\n",
        "weight = int(input(\"Weight\\n\"))\n",
        "money = int(input(\"Money\\n\"))\n",
        "\n",
        "total = price * weight\n",
        "change = money - total\n",
        "\n",
        "print(\"=\" * 16, \"Check\", \"=\" * 16, sep=\"\")\n",
        "print(\"Product:\", f\"{name}\".rjust(28))\n",
        "print(\"Price:\", f\"{weight} kg * {price} rub/kg\".rjust(30))\n",
        "print(\"Total:\", f\"{total} rub\".rjust(30))\n",
        "print(\"Cash tendered:\", f\"{money} rub\".rjust(22))\n",
        "print(\"Change:\", f\"{change} rub\".rjust(29))\n",
        "print(\"=\" * 37)"
      ]
    },
    {
      "cell_type": "code",
      "execution_count": 361,
      "metadata": {
        "colab": {
          "base_uri": "https://localhost:8080/"
        },
        "id": "-vh5AYADHRCT",
        "outputId": "b6843fcf-05c9-419f-d1ae-6722cc588e86"
      },
      "outputs": [
        {
          "name": "stdout",
          "output_type": "stream",
          "text": [
            "The patient Anna is not overweight\n",
            "\n"
          ]
        }
      ],
      "source": [
        "name = str(input(\"Name\\n\"))\n",
        "bmi = int(input(\"bmi\\n\"))\n",
        "\n",
        "if bmi > 25:\n",
        "    print(f\"The patient {name} is overweight\\n\")\n",
        "elif bmi == 25:\n",
        "    print(f\"The weight of the patient {name} is close to normal\\n\")\n",
        "else:\n",
        "    print(f\"The patient {name} is not overweight\\n\")"
      ]
    },
    {
      "cell_type": "code",
      "execution_count": 364,
      "metadata": {
        "colab": {
          "base_uri": "https://localhost:8080/"
        },
        "id": "keYOEXzFOC1W",
        "outputId": "0752a980-ef99-4df4-c237-713763ce48d8"
      },
      "outputs": [
        {
          "name": "stdout",
          "output_type": "stream",
          "text": [
            "Correct\n"
          ]
        }
      ],
      "source": [
        "first_letter = input(\"Enter the first letter of the alphabet\")\n",
        "last_letter = input(\"Enter the last letter of the alphabet\")\n",
        "\n",
        "if (first_letter == \"a\" or first_letter == \"A\") and (\n",
        "        last_letter == \"z\" or last_letter == \"Z\"):\n",
        "    print(\"Correct\")\n",
        "else:\n",
        "    print(\"Incorrect\")"
      ]
    },
    {
      "cell_type": "code",
      "execution_count": 371,
      "metadata": {},
      "outputs": [
        {
          "name": "stdout",
          "output_type": "stream",
          "text": [
            "Stop 🔴\n"
          ]
        }
      ],
      "source": [
        "color = str(input(\"What is the current color of the traffic light?\"))\n",
        "\n",
        "match color:\n",
        "    case 'red' | 'orange':\n",
        "        print(\"Stop 🔴\")\n",
        "    case 'green':\n",
        "        print(\"Go 🟢\")\n",
        "    case _:\n",
        "        print(\"Invalid value 🛑\")"
      ]
    },
    {
      "cell_type": "code",
      "execution_count": 477,
      "metadata": {},
      "outputs": [
        {
          "name": "stdout",
          "output_type": "stream",
          "text": [
            "       Vasya 🏆\n",
            "Tolya\n",
            "               Petya\n",
            " II      I      III\n"
          ]
        }
      ],
      "source": [
        "speed_P = int(input(\"Petya's speed \\n\"))\n",
        "speed_V = int(input(\"Vasya's speed \\n\"))\n",
        "speed_T = int(input(\"Tolya's speed \\n\"))\n",
        "\n",
        "maxx = max(speed_P, speed_V, speed_T)\n",
        "minn = min(speed_P, speed_V, speed_T)\n",
        "\n",
        "indent = \" \"\n",
        "\n",
        "if maxx == speed_P and  minn == speed_V:\n",
        "    print(f\"1. Petya 🏆\\n2. Tolya\\n3. Vasya\\n\")\n",
        "elif maxx == speed_V and minn == speed_P:\n",
        "    print(f\"1. Vasya 🏆\\n2. Tolya\\n3. Petya\\n\")\n",
        "elif maxx == speed_P and minn == speed_T:\n",
        "    print(f\"1. Petya 🏆\\n2. Vasya\\n3. Tolya\\n\")\n",
        "elif maxx == speed_T and minn == speed_P:\n",
        "    print(f\"1. Tolya 🏆\\n2. Vasya\\n3. Petya\\n\")\n",
        "elif maxx == speed_V and minn == speed_T:\n",
        "    print(f\"1. Vasya 🏆\\n2. Petya\\n3. Tolya\\n\")\n",
        "elif maxx == speed_T and minn == speed_V:\n",
        "    # print(f\"1. Tolya 🏆\\n2. Petya\\n3. Vasya\\n\")\n",
        "    print(f\"{indent *7}Vasya 🏆\\nTolya\\n{indent *15}Petya\\n{indent * 1}II{indent * 6}I{indent * 6}III\")"
      ]
    },
    {
      "cell_type": "code",
      "execution_count": 13,
      "metadata": {},
      "outputs": [
        {
          "data": {
            "text/plain": [
              "'F 1️⃣'"
            ]
          },
          "execution_count": 13,
          "metadata": {},
          "output_type": "execute_result"
        }
      ],
      "source": [
        "def get_grade():\n",
        "    score = (int(input(\"Write your grade\\n\")))\n",
        "    if 90 <= score <= 100:\n",
        "        grade = \"A 5️⃣\"\n",
        "    elif 80 <= score <= 89:\n",
        "        grade = \"B 4️⃣\"\n",
        "    elif 70 <= score <= 79:\n",
        "        grade = \"C 3️⃣\"\n",
        "    elif 60 <= score <= 69:\n",
        "        grade = \"D 2️⃣\"\n",
        "    else:\n",
        "        grade = \"F 1️⃣\"\n",
        "    return grade\n",
        "\n",
        "get_grade()"
      ]
    },
    {
      "cell_type": "code",
      "execution_count": 17,
      "metadata": {},
      "outputs": [
        {
          "data": {
            "text/plain": [
              "7"
            ]
          },
          "execution_count": 17,
          "metadata": {},
          "output_type": "execute_result"
        }
      ],
      "source": [
        "def add_three(input_var): # add three to the number\n",
        "    output_var = input_var + 3\n",
        "    return output_var\n",
        "\n",
        "add_three(int(input()))"
      ]
    },
    {
      "cell_type": "code",
      "execution_count": 373,
      "metadata": {},
      "outputs": [
        {
          "name": "stdout",
          "output_type": "stream",
          "text": [
            "NO\n"
          ]
        }
      ],
      "source": [
        "# leap year\n",
        "# if a year can be divided by 4 evenly without a remainder\n",
        "# and it is not divisible by 100 evenly without a remainder,\n",
        "# or if it can be divided by 400 evenly without a remainder\n",
        "\n",
        "year = int(input(\"Year? Is it a leap year at the moment? \\n\"))\n",
        "\n",
        "if year % 4 == 0 and (year % 100 != 0 or year % 400 == 0):\n",
        "    print(\"YES\")\n",
        "else:\n",
        "    print(\"NO\")"
      ]
    },
    {
      "cell_type": "code",
      "execution_count": 90,
      "metadata": {},
      "outputs": [
        {
          "name": "stdout",
          "output_type": "stream",
          "text": [
            "YES\n"
          ]
        }
      ],
      "source": [
        "# palindrome (e.g. 1221)\n",
        "\n",
        "number = str(input(\"Number?\"))\n",
        "\n",
        "if number == number[::-1]: # [start: stop: step]\n",
        "    print('YES')\n",
        "else:\n",
        "    print('NO')"
      ]
    },
    {
      "cell_type": "code",
      "execution_count": 533,
      "metadata": {},
      "outputs": [
        {
          "name": "stdout",
          "output_type": "stream",
          "text": [
            "YES 🐰\n"
          ]
        }
      ],
      "source": [
        "# birch tree, herringbone, bunny, wolf, birch tree\n",
        "\n",
        "animals = input(\"Animals in the car window\\n\")\n",
        "\n",
        "if \"rabbit\" in animals:\n",
        "    print(\"YES 🐰\")\n",
        "else:\n",
        "    print(\"NO 🐰\")"
      ]
    },
    {
      "cell_type": "code",
      "execution_count": null,
      "metadata": {},
      "outputs": [],
      "source": [
        "count = int(input(\"The number of roadside areas\\n\"))\n",
        "\n",
        "for _ in range(count):\n",
        "    position = input(\"roadside areas\").find(\"rabbit\") + 1\n",
        "    if position:\n",
        "        print(position)\n",
        "    else:\n",
        "        print(\"NO 🐰\")"
      ]
    },
    {
      "cell_type": "code",
      "execution_count": 5,
      "metadata": {},
      "outputs": [
        {
          "name": "stdout",
          "output_type": "stream",
          "text": [
            "c² > a² + b²\n",
            "an obtuse-angled\n",
            "large\n"
          ]
        }
      ],
      "source": [
        "# In ancient times, people believed that if an area was in the shape of a triangle, there might be some terrible evil within it.\n",
        "# They estimated the risk of encountering this evil based on the shape of the triangle:\n",
        "# in an acute-angled - extremely small\n",
        "# in an obtuse-angled - large\n",
        "# in a rectangular - 100 %\n",
        "\n",
        "a = int(input(\"The length of the side a of the triangle\"))\n",
        "b = int(input(\"The length of the side b of the triangle\"))\n",
        "c = int(input(\"The length of the side c of the triangle\")) \n",
        "\n",
        "if a + b > c or a + c > b or c + b > a: # conditions for the existence of a triangle\n",
        "    if a >= b and a >= c:\n",
        "        if a ** 2 == b ** 2 + c ** 2:\n",
        "            print(\"a\\u00B2 = b\\u00B2 + c\\u00B2\")\n",
        "            print(\"a rectangular\")\n",
        "            print(\"100 %\")\n",
        "        if a ** 2 > b ** 2 + c ** 2:\n",
        "            print(\"a\\u00B2 > b\\u00B2 + c\\u00B2\")\n",
        "            print(\"an obtuse-angled\") \n",
        "            print(\"large\") \n",
        "        if a ** 2 < b ** 2 + c ** 2:\n",
        "            print(\"a\\u00B2 < b\\u00B2 + c\\u00B2\")\n",
        "            print(\"an acute-angled\")\n",
        "            print(\"extremely small\") \n",
        "    if b > a and b >= c:\n",
        "        if b ** 2 == a ** 2 + c ** 2:\n",
        "            print(\"b\\u00B2 = a\\u00B2 + c\\u00B2\")\n",
        "            print(\"a rectangular\")\n",
        "            print(\"100 %\") \n",
        "        if b ** 2 > a ** 2 + c ** 2:\n",
        "            print(\"b\\u00B2 > a\\u00B2 + c\\u00B2\")\n",
        "            print(\"an obtuse-angled\") \n",
        "            print(\"large\") \n",
        "        if b ** 2 < a ** 2 + c ** 2:\n",
        "            print(\"b\\u00B2 < a\\u00B2 + c\\u00B2\")\n",
        "            print(\"an acute-angled\")\n",
        "            print(\"extremely small\") \n",
        "    if c > a and c > b:\n",
        "        if c ** 2 == a ** 2 + b ** 2:\n",
        "            print(\"c\\u00B2 = a\\u00B2 + b\\u00B2\")\n",
        "            print(\"a rectangular\")\n",
        "            print(\"100 %\") \n",
        "        if c ** 2 > a ** 2 + b ** 2:\n",
        "            print(\"c\\u00B2 > a\\u00B2 + b\\u00B2\")\n",
        "            print(\"an obtuse-angled\") \n",
        "            print(\"large\")\n",
        "        if c ** 2 < b ** 2 + a ** 2:\n",
        "            print(\"c\\u00B2 < b\\u00B2 + a\\u00B2\")\n",
        "            print(\"an acute-angled\")\n",
        "            print(\"extremely small\")\n",
        "else:\n",
        "    print(\"The triangle does not exist\")"
      ]
    },
    {
      "cell_type": "code",
      "execution_count": 29,
      "metadata": {},
      "outputs": [
        {
          "name": "stdout",
          "output_type": "stream",
          "text": [
            "[10, 13, 31, 30]\n",
            "10 31\n"
          ]
        }
      ],
      "source": [
        "number = str(input()) #103\n",
        "\n",
        "a = int(number[0] + number[1]) #10\n",
        "b = int(number[0] + number[2]) #13\n",
        "c = int(number[1] + number[0]) #01\n",
        "d = int(number[1] + number[2]) #03\n",
        "e = int(number[2] + number[0]) #31\n",
        "f = int(number[2] + number[1]) #30\n",
        "\n",
        "spis = []   # the minimum and maximum possible two-digit numbers\n",
        "\n",
        "for i in (a, b, c, d, e, f):\n",
        "    if i >= 10: # 10, because we need two-digit numbers\n",
        "        spis.append(i)\n",
        "        \n",
        "print(spis)\n",
        "print(f\"{min(spis)} {max(spis)}\")"
      ]
    },
    {
      "cell_type": "code",
      "execution_count": 39,
      "metadata": {},
      "outputs": [
        {
          "name": "stdout",
          "output_type": "stream",
          "text": [
            "ax²+bx+c=0\n",
            "Infinite solutions\n"
          ]
        }
      ],
      "source": [
        "print(\"ax\\u00B2+bx+c=0\")\n",
        "\n",
        "a = float(input()) \n",
        "b = float(input()) \n",
        "c = float(input()) \n",
        "d = b ** 2 - 4 * a * c # discriminant\n",
        "\n",
        "if (a == 0):\n",
        "    if b == 0 and c == 0:\n",
        "        print('Infinite solutions')\n",
        "    elif c != 0 and b == 0:\n",
        "        print('No solution') \n",
        "    elif b != 0 and c == 0:\n",
        "        x1 = 0\n",
        "        print(f'{x1:.2f}')\n",
        "    elif b != 0 and c != 0:\n",
        "        x1 = - c / b\n",
        "        print(f'{x1:.2f}')\n",
        "elif a != 0:\n",
        "    if d < 0:\n",
        "        print('No solution')\n",
        "    if d == 0: \n",
        "        x1 = - b / (2 * a)\n",
        "        print(f'{x1:.2f}')\n",
        "    if d > 0:\n",
        "        x1 = (- b + d ** 0.5) / (2 * a) \n",
        "        x2 = (- b - d ** 0.5) / (2 * a)  \n",
        "        if x1 > x2:\n",
        "            print(f'{x2:.2f} {x1:.2f}') \n",
        "        else:\n",
        "            print(f'{x1:.2f} {x2:.2f}') \n",
        "     "
      ]
    },
    {
      "cell_type": "markdown",
      "metadata": {},
      "source": [
        "<img alt=\"avtomatizaciya-bezopasnosti.png\" src=\"PNG/avtomatizaciya-bezopasnosti-image.png\" width=\"343\" height=\"328\" />"
      ]
    },
    {
      "cell_type": "code",
      "execution_count": 193,
      "metadata": {},
      "outputs": [
        {
          "name": "stdout",
          "output_type": "stream",
          "text": [
            "You went out to sea, putting yourself at risk of being eaten by a shark!\n"
          ]
        }
      ],
      "source": [
        "x = float(input())\n",
        "y = float(input())\n",
        "\n",
        "if (x ** 2 + y ** 2) ** 0.5 > 10:\n",
        "    print(\"You went out to sea, putting yourself at risk of being eaten by a shark!\")\n",
        "elif x >= 0 and y >= 0 and (x ** 2 + y ** 2) ** 0.5 <= 5:\n",
        "    print(\"Please leave the area immediately!\")\n",
        "elif -4 <= x < 0 and 0 <= y <= 5:\n",
        "    print(\"Please leave the area immediately!\")\n",
        "elif -7 <= x < -4 and 0 <= y <= 5 and (5 * x - 3 * y) > -35:\n",
        "    print(\"Please leave the area immediately!\")\n",
        "elif (0.25 * x ** 2 + 0.5 * x - 9) <= y <= 0:\n",
        "    print(\"Please leave the area immediately!\")\n",
        "else:\n",
        "    print(\"The area is safe. Keep working.\")\n",
        "    \n",
        "# First of all, we need to make sure that we are in the green zone (checking that the coordinates belong to the circle).\n",
        "# Next, the solution is divided into 3 parts – one for each sector of the coordinate grid in the upper half and one common for the lower half:\n",
        "# x > 0 and y > 0 - checking whether a point belongs to a circle with a radius of 5\n",
        "# x < 0 and y > 0 - two ranges – checking whether a point belongs to a square with coordinates (-4, 5) (0, 0) or a right–angled triangle whose catheter is described by the equation 5x - 3y == -35, adjacent to square \n",
        "# checking whether a point belongs to a zone described by a parabola with the formula 0.25**2 + 0.5 x – 9"
      ]
    },
    {
      "cell_type": "code",
      "execution_count": 20,
      "metadata": {},
      "outputs": [
        {
          "name": "stdout",
          "output_type": "stream",
          "text": [
            "Incorrect password, try again.\n",
            "Сorrect password, Access is allowed.\n"
          ]
        }
      ],
      "source": [
        "saved_pwd = \"right_password\"\n",
        "while True:\n",
        "    if input(\"Enter your password to log in: \") == saved_pwd:\n",
        "        print(\"Сorrect password, Access is allowed.\")\n",
        "        break\n",
        "    else:\n",
        "        print(\"Incorrect password, try again.\")"
      ]
    },
    {
      "cell_type": "code",
      "execution_count": 197,
      "metadata": {},
      "outputs": [
        {
          "name": "stdout",
          "output_type": "stream",
          "text": [
            "Hi, Anna!\n",
            "End\n"
          ]
        }
      ],
      "source": [
        "name = input(\"Name:\\n\")\n",
        "\n",
        "while name != \"stop\":\n",
        "    print(f\"Hi, {name}!\")\n",
        "    name = input(\"Name:\\n\")\n",
        "\n",
        "print(\"End\")"
      ]
    },
    {
      "cell_type": "code",
      "execution_count": 23,
      "metadata": {},
      "outputs": [
        {
          "name": "stdout",
          "output_type": "stream",
          "text": [
            "Christmas🎄 tree, burn!\n"
          ]
        }
      ],
      "source": [
        "while (tree := input(\"Counting:\\n\")) != \"three\": # walrus operator 🦭, assign the input to the \"name\" variable, and then output the value of the name\n",
        "    pass\n",
        "\n",
        "print(\"Christmas🎄 tree, burn!\")"
      ]
    },
    {
      "cell_type": "code",
      "execution_count": 469,
      "metadata": {},
      "outputs": [
        {
          "name": "stdout",
          "output_type": "stream",
          "text": [
            "2 🐰\n"
          ]
        }
      ],
      "source": [
        "count = 0\n",
        "\n",
        "while (window := input()) != \"We arrived!\":\n",
        "    if \"rabbit\" in window:\n",
        "        count += 1\n",
        "\n",
        "print(f\"{count} 🐰\")"
      ]
    },
    {
      "cell_type": "code",
      "execution_count": 518,
      "metadata": {},
      "outputs": [
        {
          "name": "stdout",
          "output_type": "stream",
          "text": [
            "0 1 2 3 4 5 "
          ]
        }
      ],
      "source": [
        "digits = int(input(\"Enter the number of digits \"))\n",
        "\n",
        "for i in range(digits + 1):\n",
        "    print(i, end = ' ')"
      ]
    },
    {
      "cell_type": "code",
      "execution_count": 29,
      "metadata": {},
      "outputs": [
        {
          "name": "stdout",
          "output_type": "stream",
          "text": [
            "1 2 3 4 5 "
          ]
        }
      ],
      "source": [
        "beginning = int(input(\"Enter the beginning of the range:\\n\"))\n",
        "end = int(input(\"Enter the end of the range:\\n\"))\n",
        "\n",
        "for i in range(beginning, end + 1): # start, end, step\n",
        "    print(i, end = ' ')"
      ]
    },
    {
      "cell_type": "code",
      "execution_count": 515,
      "metadata": {},
      "outputs": [
        {
          "name": "stdout",
          "output_type": "stream",
          "text": [
            "5 4 3 2 1 0 -1 -2 -3 "
          ]
        }
      ],
      "source": [
        "a = int(input())\n",
        "b = int(input())\n",
        "\n",
        "if a < b:\n",
        "    for i in range(a, b + 1):\n",
        "        print(i, end=' ')\n",
        "else:\n",
        "    for i in range(a, b - 1, -1):\n",
        "        print(i, end=' ')"
      ]
    },
    {
      "cell_type": "code",
      "execution_count": 514,
      "metadata": {},
      "outputs": [
        {
          "name": "stdout",
          "output_type": "stream",
          "text": [
            "5 4 3 2 1 0 -1 -2 -3 "
          ]
        }
      ],
      "source": [
        "a = int(input()) \n",
        "b = int(input())\n",
        "\n",
        "if a < b:\n",
        "    while a != b + 1:\n",
        "        print(a, end=' ')\n",
        "        a += 1\n",
        "else:\n",
        "    while a != b - 1:\n",
        "        print(a, end=' ')\n",
        "        a -= 1"
      ]
    },
    {
      "cell_type": "code",
      "execution_count": 531,
      "metadata": {},
      "outputs": [
        {
          "name": "stdout",
          "output_type": "stream",
          "text": [
            "883.0\n"
          ]
        }
      ],
      "source": [
        "# The total value of all products, including promotion 10 %\n",
        "# ( 100 % - 10 % = 90 %, 90 % * 500 / 100 = 450) or \n",
        "# ( 90 % / 100 = 0.9, 0,9 * 100)\n",
        "\n",
        "summa = 0\n",
        "\n",
        "while (price := float(input())) != 0:\n",
        "    if price >= 500:\n",
        "        price *= 0.9\n",
        "        summa += price\n",
        "    else:\n",
        "        summa += price\n",
        "\n",
        "print(summa)"
      ]
    },
    {
      "cell_type": "code",
      "execution_count": 211,
      "metadata": {},
      "outputs": [
        {
          "name": "stdout",
          "output_type": "stream",
          "text": [
            "Hello\n",
            "Hello\n",
            "Hello\n",
            "Hello\n",
            "Hello\n"
          ]
        }
      ],
      "source": [
        "information = str(input())\n",
        "times = int(input())\n",
        "a = 0\n",
        "\n",
        "while a != times:\n",
        "    print(information)\n",
        "    a += 1"
      ]
    },
    {
      "cell_type": "code",
      "execution_count": 42,
      "metadata": {},
      "outputs": [
        {
          "name": "stdout",
          "output_type": "stream",
          "text": [
            "120\n"
          ]
        }
      ],
      "source": [
        "number = int(input(\"The factorial of a number\"))\n",
        "\n",
        "beginning = 1\n",
        "factorial = 1\n",
        "\n",
        "while beginning != number + 1:\n",
        "    factorial *= beginning\n",
        "    beginning += 1\n",
        "print(factorial)"
      ]
    },
    {
      "cell_type": "code",
      "execution_count": 51,
      "metadata": {},
      "outputs": [
        {
          "name": "stdout",
          "output_type": "stream",
          "text": [
            "2\n",
            "2\n"
          ]
        }
      ],
      "source": [
        "#       north\n",
        "# west         east\n",
        "#       south\n",
        "\n",
        "x = 0\n",
        "y = 0\n",
        "\n",
        "while (directions := str(input(\"Direction? 🧭\"))) != 'stop':\n",
        "    steps = int(input(\"The number of steps?\"))\n",
        "    if directions == 'north':\n",
        "        y += steps\n",
        "    if directions == 'south':\n",
        "        y -= steps\n",
        "    if directions == 'west':\n",
        "        x -= steps\n",
        "    if directions == 'east':\n",
        "        x += steps\n",
        "        \n",
        "print(f'{x}\\n{y}')"
      ]
    },
    {
      "cell_type": "code",
      "execution_count": 59,
      "metadata": {},
      "outputs": [
        {
          "name": "stdout",
          "output_type": "stream",
          "text": [
            "The sum of the digits in the number is: 15\n"
          ]
        }
      ],
      "source": [
        "number = int(input(\"Please enter a number\"))\n",
        "\n",
        "sum_of_digits = 0\n",
        "\n",
        "while number > 0:\n",
        "    digit = number % 10\n",
        "    sum_of_digits += digit\n",
        "    number //= 10\n",
        "\n",
        "print(f\"The sum of the digits in the number is: {sum_of_digits}\")"
      ]
    },
    {
      "cell_type": "code",
      "execution_count": 118,
      "metadata": {},
      "outputs": [
        {
          "name": "stdout",
          "output_type": "stream",
          "text": [
            "['4', '3', '2', '1']\n",
            "The largest digit in the number:\n",
            "4\n"
          ]
        }
      ],
      "source": [
        "number = input(\"Please, enter a number\")\n",
        "print(list(number))\n",
        "print(f\"The largest digit in the number:\\n{max(list(number))}\")"
      ]
    },
    {
      "cell_type": "code",
      "execution_count": 145,
      "metadata": {},
      "outputs": [
        {
          "name": "stdout",
          "output_type": "stream",
          "text": [
            "12345\n",
            "The largest digit in the number:\n",
            "5\n"
          ]
        }
      ],
      "source": [
        "def max_digit(number):\n",
        "    number = int(input(\"Please, enter a number\"))\n",
        "    print(number)\n",
        "    return max(str(number))\n",
        "\n",
        "print(f\"The largest digit in the number:\\n{max_digit(number)}\")"
      ]
    },
    {
      "cell_type": "code",
      "execution_count": 168,
      "metadata": {},
      "outputs": [
        {
          "name": "stdout",
          "output_type": "stream",
          "text": [
            "0.5105989909927382\n"
          ]
        }
      ],
      "source": [
        "import random\n",
        "\n",
        "def avg_of_random_numbers(n):\n",
        "    sum_of_random_numbers = 0.0\n",
        "    for _ in range(n):\n",
        "        sum_of_random_numbers += random.random()\n",
        "    return sum_of_random_numbers / n # arithmetic mean\n",
        "\n",
        "result = avg_of_random_numbers(1000)\n",
        "print(result)"
      ]
    },
    {
      "cell_type": "code",
      "execution_count": 185,
      "metadata": {},
      "outputs": [
        {
          "name": "stdout",
          "output_type": "stream",
          "text": [
            "  1  |  2  |  3  |  4  \n",
            "-----------------------\n",
            "  2  |  4  |  6  |  8  \n",
            "-----------------------\n",
            "  3  |  6  |  9  | 12  \n",
            "-----------------------\n",
            "  4  |  8  | 12  | 16  \n"
          ]
        }
      ],
      "source": [
        "# multiplication_table\n",
        "\n",
        "row_width = int(input(\"What multiplication table do you want to learn\")) + 1\n",
        "column_width = int(input(\"Required width?\"))\n",
        "\n",
        "string_length = (row_width - 1) * (column_width + 1) - 1\n",
        "\n",
        "# row_width - 1 - number of separators\n",
        "# column_width + 1 - the width between two columns, plus the symbol |\n",
        "# -1 - reduced by minus 1, so as not to add an extra character at the end\n",
        "# (4 - 1) * (5 + 1) - 1 = 17\n",
        "\n",
        "for row in range(1, row_width):\n",
        "    for column in range(1, row_width):\n",
        "        print(f\"{row * column:^{column_width}}\", end=\"\")\n",
        "        if column != row_width - 1:\n",
        "            print(\"|\", end=\"\")\n",
        "    print()\n",
        "    if row + 1 != row_width:\n",
        "        print(\"-\" * string_length)"
      ]
    },
    {
      "cell_type": "code",
      "execution_count": 117,
      "metadata": {},
      "outputs": [
        {
          "name": "stdout",
          "output_type": "stream",
          "text": [
            "13\n"
          ]
        }
      ],
      "source": [
        "first_number = int(input(\"Your first number?\"))\n",
        "\n",
        "sum_of_digits = 0\n",
        "\n",
        "for _ in range(first_number):\n",
        "    number = int(input())\n",
        "    while number > 0:\n",
        "        sum_of_digits += number % 10\n",
        "        number //= 10\n",
        "print(sum_of_digits)"
      ]
    },
    {
      "cell_type": "code",
      "execution_count": 126,
      "metadata": {},
      "outputs": [
        {
          "name": "stdout",
          "output_type": "stream",
          "text": [
            "А Б В\n",
            "1 1 3\n",
            "1 2 2\n",
            "1 3 1\n",
            "2 1 2\n",
            "2 2 1\n",
            "3 1 1\n"
          ]
        }
      ],
      "source": [
        "orange_slices = int(input(\"How much orange slices?🍊\"))\n",
        "\n",
        "print('А Б В')\n",
        "for a in range(1, orange_slices + 1):\n",
        "    for b in range(1, orange_slices + 1):\n",
        "        for c in range(1, orange_slices + 1):\n",
        "            if a + b + c == orange_slices:\n",
        "                print(a, b, c)"
      ]
    },
    {
      "cell_type": "code",
      "execution_count": 186,
      "metadata": {},
      "outputs": [
        {
          "name": "stdout",
          "output_type": "stream",
          "text": [
            "    1 \n",
            "   1 2 \n",
            "  1 2 3 \n",
            " 1 2 3 4 \n",
            "1 2 3 4 5 \n"
          ]
        }
      ],
      "source": [
        "height = int(input(\"Enter the height of the Christmas tree 🌲\"))\n",
        "\n",
        "for i in range(1, height + 1):\n",
        "    print(' ' * (height - i), end='')\n",
        "    for j in range(1, i + 1):\n",
        "        print(j, end=' ')\n",
        "    print()"
      ]
    },
    {
      "cell_type": "markdown",
      "metadata": {},
      "source": [
        "# loops and slices"
      ]
    },
    {
      "cell_type": "code",
      "execution_count": 15,
      "metadata": {},
      "outputs": [
        {
          "name": "stdout",
          "output_type": "stream",
          "text": [
            "c\n",
            "a\n",
            "t\n"
          ]
        }
      ],
      "source": [
        "message = \"cat\"\n",
        "\n",
        "for letter in message:\n",
        "    print(letter, end='\\n')"
      ]
    },
    {
      "cell_type": "code",
      "execution_count": 18,
      "metadata": {},
      "outputs": [
        {
          "name": "stdout",
          "output_type": "stream",
          "text": [
            "c...\n",
            "cats\n",
            "dogs\n"
          ]
        }
      ],
      "source": [
        "number_of_headers = int(input(\"The number of headers?\"))\n",
        "header_length = int(input(\"Header length?\"))\n",
        "\n",
        "for i in range(number_of_headers):\n",
        "    header = input(\"Header?\")\n",
        "    if len(header) > header_length:\n",
        "        print(header[:header_length-3]+ \"...\")\n",
        "    else:\n",
        "        print(header)"
      ]
    },
    {
      "cell_type": "code",
      "execution_count": 20,
      "metadata": {},
      "outputs": [
        {
          "name": "stdout",
          "output_type": "stream",
          "text": [
            "##cat\n"
          ]
        }
      ],
      "source": [
        "# removes ## at the start of information messages and strings ending with @@\n",
        "##cat@@\n",
        "\n",
        "while message := input():\n",
        "    if message[-2:] != '@@':\n",
        "        if message[0:2] == '##':\n",
        "            message = message[2:]\n",
        "        print(message)\n",
        "    else:\n",
        "        message = message[:-2]\n",
        "        print(message)"
      ]
    },
    {
      "cell_type": "markdown",
      "metadata": {},
      "source": [
        "# functions"
      ]
    },
    {
      "cell_type": "code",
      "execution_count": 14,
      "metadata": {},
      "outputs": [
        {
          "name": "stdout",
          "output_type": "stream",
          "text": [
            "Cola with ice is ready!\n",
            "Cola without ice is ready!\n"
          ]
        }
      ],
      "source": [
        "def get_cola(ice=True):\n",
        "   if ice == True:\n",
        "       print(\"Cola with ice is ready!\")\n",
        "   else:\n",
        "       print(\"Cola without ice is ready!\")\n",
        "       \n",
        "get_cola(True)\n",
        "\n",
        "get_cola(False)"
      ]
    },
    {
      "cell_type": "code",
      "execution_count": 71,
      "metadata": {},
      "outputs": [
        {
          "name": "stdout",
          "output_type": "stream",
          "text": [
            "True\n",
            "False\n"
          ]
        }
      ],
      "source": [
        "def only_even(numbers):\n",
        "    for x in numbers:\n",
        "        if x % 2 != 0:\n",
        "            return False\n",
        "    return True\n",
        "\n",
        "\n",
        "print(only_even([2, 4, 6]))\n",
        "print(only_even([1, 2, 3]))"
      ]
    },
    {
      "cell_type": "code",
      "execution_count": null,
      "metadata": {},
      "outputs": [],
      "source": [
        "def list_modify():\n",
        "    del sample[-1]\n",
        "    \n",
        "# the contents of the object (in this case, the list) are changed, not the variable itself\n",
        "\n",
        "sample = [1, 2, 3]\n",
        "list_modify()\n",
        "print(sample)"
      ]
    },
    {
      "cell_type": "code",
      "execution_count": null,
      "metadata": {},
      "outputs": [],
      "source": [
        "counter = 0\n",
        "def bump_counter():\n",
        "    global counter # global variable\n",
        "    counter += 1\n",
        "bump_counter()\n",
        "print(counter)"
      ]
    },
    {
      "cell_type": "code",
      "execution_count": 73,
      "metadata": {},
      "outputs": [
        {
          "data": {
            "text/plain": [
              "'May'"
            ]
          },
          "execution_count": 73,
          "metadata": {},
          "output_type": "execute_result"
        }
      ],
      "source": [
        "def month(num, lang):\n",
        "    MONTHS = {\n",
        "        'rus': ['Январь', 'Февраль', 'Март', 'Апрель', 'Май', 'Июнь', 'Июль',\n",
        "               'Август', 'Сентябрь', 'Октябрь', 'Ноябрь', 'Декабрь'],\n",
        "        'eng': ['January', 'February', 'March', 'April', 'May', 'June', 'July',\n",
        "               'August', 'September', 'October', 'November', 'December']\n",
        "             }\n",
        "\n",
        "    return MONTHS[lang][num - 1]\n",
        "\n",
        "month(5, \"eng\")"
      ]
    },
    {
      "cell_type": "markdown",
      "metadata": {},
      "source": [
        "# Positional and named arguments (\"Ann\", 30) (name = \"Ann\", age = 30)"
      ]
    },
    {
      "cell_type": "code",
      "execution_count": 91,
      "metadata": {},
      "outputs": [
        {
          "name": "stdout",
          "output_type": "stream",
          "text": [
            "980.0\n",
            "980.0\n",
            "950.0\n",
            "950.0\n"
          ]
        }
      ],
      "source": [
        "def final_price(price, discount = 2):\n",
        "    return price - price * discount / 100\n",
        "\n",
        "print(final_price(1000))\n",
        "print(final_price(price = 1000, discount = 2))\n",
        "print(final_price(1000, 5))\n",
        "print(final_price(1000, discount = 5))"
      ]
    },
    {
      "cell_type": "code",
      "execution_count": 44,
      "metadata": {},
      "outputs": [
        {
          "name": "stdout",
          "output_type": "stream",
          "text": [
            "Март\n"
          ]
        }
      ],
      "source": [
        "def month(num, lang='ru'):\n",
        "    MONTHS = {\n",
        "        'ru': ['Январь', 'Февраль', 'Март', 'Апрель', 'Май', 'Июнь', 'Июль',\n",
        "               'Август', 'Сентябрь', 'Октябрь', 'Ноябрь', 'Декабрь'],\n",
        "        'en': ['January', 'February', 'March', 'April', 'May', 'June', 'July',\n",
        "               'August', 'September', 'October', 'November', 'December']\n",
        "             }\n",
        "\n",
        "    return MONTHS[lang][num - 1]\n",
        "\n",
        "print(month(3))"
      ]
    },
    {
      "cell_type": "code",
      "execution_count": 92,
      "metadata": {},
      "outputs": [
        {
          "name": "stdout",
          "output_type": "stream",
          "text": [
            "950.0\n",
            "1000\n"
          ]
        }
      ],
      "source": [
        "def final_price(price, discount = None):\n",
        "    if discount is None:\n",
        "        return price\n",
        "    return price - price * discount / 100\n",
        "\n",
        "print(final_price(price = 1000, discount = 5))\n",
        "print(final_price(price = 1000))"
      ]
    },
    {
      "cell_type": "code",
      "execution_count": 49,
      "metadata": {},
      "outputs": [
        {
          "name": "stdout",
          "output_type": "stream",
          "text": [
            "Drinks ordered: ('Coffee', 'Tea')\n",
            "Additional info: {'size': 'Large', 'sugar': 'No'}\n"
          ]
        }
      ],
      "source": [
        "def order(*args, **kwargs):\n",
        "    print(f\"Drinks ordered: {args}\") # *args - passing any number of positional arguments to a !tuple!\n",
        "    print(f\"Additional info: {kwargs}\") # **kwargs - passing any number of named arguments to a !dictionary!\n",
        "\n",
        "order(\"Coffee\", \"Tea\", size=\"Large\", sugar=\"No\")"
      ]
    },
    {
      "cell_type": "code",
      "execution_count": 93,
      "metadata": {},
      "outputs": [
        {
          "name": "stdout",
          "output_type": "stream",
          "text": [
            "[990.0, 1485.0, 891.0]\n"
          ]
        }
      ],
      "source": [
        "def final_price(*prices, discount = 1):\n",
        "    return [price - price * discount / 100 for price in prices]\n",
        "\n",
        "print(final_price(1000, 1500, 900, discount = 1))"
      ]
    },
    {
      "cell_type": "code",
      "execution_count": 95,
      "metadata": {},
      "outputs": [
        {
          "name": "stdout",
          "output_type": "stream",
          "text": [
            "Order_id: 1234\n",
            "Customer: John Doe\n",
            "Product: Laptop\n",
            "Price: 1500\n",
            "Delivery: Express\n"
          ]
        }
      ],
      "source": [
        "def print_order_details(**kwargs):\n",
        "    for key, value in kwargs.items():\n",
        "        print(f\"{key.capitalize()}: {value}\")\n",
        "\n",
        "print_order_details(order_id=1234, customer=\"John Doe\", product=\"Laptop\", price=1500, delivery=\"Express\")\n"
      ]
    },
    {
      "cell_type": "code",
      "execution_count": 96,
      "metadata": {},
      "outputs": [
        {
          "name": "stdout",
          "output_type": "stream",
          "text": [
            "[95.0, 190.0, 285.0, 380.0, 475.0]\n",
            "[190.0, 285.0, 380.0, 475.0]\n",
            "[95.0, 190.0]\n",
            "[190.0, 285.0]\n"
          ]
        }
      ],
      "source": [
        "def final_price(*prices, discount = 1, **kwargs):\n",
        "    low = kwargs.get(\"price_low\", min(prices)) # dictionary.get(key, default); default - the value that will be returned if the key is not in the dictionary\n",
        "    high = kwargs.get(\"price_high\", max(prices))\n",
        "    return [price - price * discount / 100 for price in prices if low <= price <= high]\n",
        "\n",
        "print(final_price(100, 200, 300, 400, 500, discount = 5))\n",
        "print(final_price(100, 200, 300, 400, 500, discount = 5, price_low = 200))\n",
        "print(final_price(100, 200, 300, 400, 500, discount = 5, price_high =  200))\n",
        "print(final_price(100, 200, 300, 400, 500, discount = 5, price_low = 200, price_high = 350))"
      ]
    },
    {
      "cell_type": "code",
      "execution_count": 46,
      "metadata": {},
      "outputs": [
        {
          "name": "stdout",
          "output_type": "stream",
          "text": [
            "1 2 3\n",
            "\n"
          ]
        }
      ],
      "source": [
        "def to_string(*data, sep=' ', end='\\n'):\n",
        "    return sep.join(str(item) for item in data) + end\n",
        "print(to_string(1,2,3))"
      ]
    },
    {
      "cell_type": "code",
      "execution_count": 47,
      "metadata": {},
      "outputs": [
        {
          "name": "stdout",
          "output_type": "stream",
          "text": [
            "Espresso\n"
          ]
        }
      ],
      "source": [
        "RECIPES = {\n",
        "    'Espresso': {'coffee': 1},\n",
        "    'Cappuccino': {\"coffee\": 1, \"milk\": 3},\n",
        "    'Macchiato': {\"coffee\": 2, \"milk\": 1},\n",
        "    'Viennese coffee': {\"coffee\": 1, \"cream\": 2},\n",
        "    'Latte Macchiato': {\"coffee\": 1, \"milk\": 2, \"cream\": 1},\n",
        "    'Con Panna': {\"coffee\": 1, \"cream\": 1}\n",
        "}\n",
        "\n",
        "in_stock = {\"coffee\": 1, \"milk\": 2, \"cream\": 3}\n",
        "\n",
        "\n",
        "def order(*drinks):\n",
        "    global in_stock, RECIPES\n",
        "\n",
        "    for drink in drinks:\n",
        "        if all(ingredient in in_stock and RECIPES[drink][ingredient] <= in_stock[ingredient] for ingredient in RECIPES[drink]):  # noqa\n",
        "            for ingredient, amount in RECIPES[drink].items():\n",
        "                in_stock[ingredient] -= amount\n",
        "            return drink\n",
        "\n",
        "    return \"Unfortunately, we can't offer you a drink\"\n",
        "\n",
        "print(order(\"Espresso\", \"Cappuccino\", \"Macchiato\"))"
      ]
    },
    {
      "cell_type": "markdown",
      "metadata": {},
      "source": [
        "# higher-order functions (map, reduce, filter)\n",
        "# lambda"
      ]
    },
    {
      "cell_type": "code",
      "execution_count": 52,
      "metadata": {},
      "outputs": [
        {
          "name": "stdout",
          "output_type": "stream",
          "text": [
            "['Witch', 'service', 'delivery']\n"
          ]
        }
      ],
      "source": [
        "string = 'Witch delivery service'\n",
        "\n",
        "print(sorted(string.split(), key=lambda x: (len(x), x.lower()))) \n",
        "\n",
        "# lambda - functions on the fly without having to explicitly declare them using def (lambda arguments: expression, sequence)"
      ]
    },
    {
      "cell_type": "code",
      "execution_count": 55,
      "metadata": {},
      "outputs": [
        {
          "name": "stdout",
          "output_type": "stream",
          "text": [
            "2 4\n"
          ]
        }
      ],
      "source": [
        "print(*filter(lambda c: sum(int(x) for x in str(c)) % 2 == 0, (1, 2, 3, 4, 5)))"
      ]
    },
    {
      "cell_type": "code",
      "execution_count": 1,
      "metadata": {},
      "outputs": [
        {
          "name": "stdout",
          "output_type": "stream",
          "text": [
            "5, 6\n"
          ]
        }
      ],
      "source": [
        "def only_positive_ones(x):\n",
        "    return x > 0\n",
        "\n",
        "result = filter(only_positive_ones, [-1, 5, 6, -10, 0]) # filter(function, iterable) - selects only those elements that satisfy the condition\n",
        "print(\", \".join(str(x) for x in result))"
      ]
    },
    {
      "cell_type": "code",
      "execution_count": 20,
      "metadata": {},
      "outputs": [
        {
          "name": "stdout",
          "output_type": "stream",
          "text": [
            "5, 6\n"
          ]
        }
      ],
      "source": [
        "result = filter(lambda x: x > 0, [-1, 5, 6, -10, 0]) # filter(lambda x: condition, sequence) — for selecting elements based on a condition\n",
        "print(\", \".join(str(x) for x in result))"
      ]
    },
    {
      "cell_type": "code",
      "execution_count": 38,
      "metadata": {},
      "outputs": [
        {
          "name": "stdout",
          "output_type": "stream",
          "text": [
            "5, 6\n"
          ]
        }
      ],
      "source": [
        "result = (x for x in [-1, 5, 6, -10, 0] if x > 0) # list comprehension\n",
        "print(\", \".join(str(x) for x in result))"
      ]
    },
    {
      "cell_type": "code",
      "execution_count": 21,
      "metadata": {},
      "outputs": [
        {
          "name": "stdout",
          "output_type": "stream",
          "text": [
            "[1, 2, 3]\n"
          ]
        }
      ],
      "source": [
        "numbers = [-1, 0, 1, 2, 3]\n",
        "positive_numbers = filter(lambda x: x > 0, numbers)\n",
        "print(list(positive_numbers)) "
      ]
    },
    {
      "cell_type": "code",
      "execution_count": 11,
      "metadata": {},
      "outputs": [
        {
          "name": "stdout",
          "output_type": "stream",
          "text": [
            "ABcd\n"
          ]
        }
      ],
      "source": [
        "result = filter(str.isalpha, \"123ABcd()\")\n",
        "print(\"\".join(result))"
      ]
    },
    {
      "cell_type": "code",
      "execution_count": 8,
      "metadata": {},
      "outputs": [
        {
          "name": "stdout",
          "output_type": "stream",
          "text": [
            "0, 1, 4, 9, 16\n"
          ]
        }
      ],
      "source": [
        "def square(x):\n",
        "    return x ** 2\n",
        "    \n",
        "result = map(square, range(5)) # map(function, iterable) - transforms each element of the sequence\n",
        "print(\", \".join(str(x) for x in result))"
      ]
    },
    {
      "cell_type": "code",
      "execution_count": 19,
      "metadata": {},
      "outputs": [
        {
          "name": "stdout",
          "output_type": "stream",
          "text": [
            "0, 1, 4, 9, 16\n"
          ]
        }
      ],
      "source": [
        "result = map(lambda x: x ** 2, range(5)) # map(lambda x: expression, sequence) — for transforming each element\n",
        "print(\", \".join(str(x) for x in result))"
      ]
    },
    {
      "cell_type": "code",
      "execution_count": 26,
      "metadata": {},
      "outputs": [
        {
          "name": "stdout",
          "output_type": "stream",
          "text": [
            "1, 4, 9, 16\n"
          ]
        }
      ],
      "source": [
        "numbers = [1, 2, 3, 4]\n",
        "squared_numbers = map(lambda x: x ** 2, numbers)\n",
        "print(\", \".join(map(str, squared_numbers))) # join - to string"
      ]
    },
    {
      "cell_type": "code",
      "execution_count": 9,
      "metadata": {},
      "outputs": [
        {
          "name": "stdout",
          "output_type": "stream",
          "text": [
            "abcd\n",
            "efgh\n",
            "ijkl\n"
          ]
        }
      ],
      "source": [
        "result = map(str.lower, [\"abCD\", \"EFGh\", \"IJkl\"])\n",
        "print(\"\\n\".join(result))"
      ]
    },
    {
      "cell_type": "code",
      "execution_count": 17,
      "metadata": {},
      "outputs": [
        {
          "name": "stdout",
          "output_type": "stream",
          "text": [
            "[10, 20, 30]\n"
          ]
        }
      ],
      "source": [
        "numbers = list(map(int, input().split()))\n",
        "print(numbers)"
      ]
    },
    {
      "cell_type": "code",
      "execution_count": 27,
      "metadata": {},
      "outputs": [
        {
          "name": "stdout",
          "output_type": "stream",
          "text": [
            "['ab', 'abc', 'abcd', 'abcdef']\n"
          ]
        }
      ],
      "source": [
        "lines = [\"abcd\", \"ab\", \"abc\", \"abcdef\"]\n",
        "print(sorted(lines, key = lambda line: len(line))) # sorted(iterable, key = None, reverse = False)\n",
        "# len(line) - 4"
      ]
    },
    {
      "cell_type": "code",
      "execution_count": 32,
      "metadata": {},
      "outputs": [
        {
          "name": "stdout",
          "output_type": "stream",
          "text": [
            "['abcd', 'acde', 'ab', 'ba']\n"
          ]
        }
      ],
      "source": [
        "lines = [\"abcd\", \"ab\", \"ba\", \"acde\"]\n",
        "print(sorted(lines, key=lambda line: (-len(line), line))) # (len(line), line) - tuple (-4, \"abcd\")"
      ]
    },
    {
      "cell_type": "code",
      "execution_count": 36,
      "metadata": {},
      "outputs": [
        {
          "name": "stdout",
          "output_type": "stream",
          "text": [
            "ba\n"
          ]
        }
      ],
      "source": [
        "lines = [\"abcd\", \"ab\", \"ba\", \"acde\"]\n",
        "print(max(lines, key=lambda line: (-len(line), line))) # abcd,acde < ab,ba; ba>ab"
      ]
    },
    {
      "cell_type": "code",
      "execution_count": 39,
      "metadata": {},
      "outputs": [
        {
          "name": "stdout",
          "output_type": "stream",
          "text": [
            "15\n"
          ]
        }
      ],
      "source": [
        "from functools import reduce\n",
        "\n",
        "numbers = range(1, 6)\n",
        "print(reduce(lambda x, y: x + y, numbers)) # reduce(lambda x, y: expression, sequence) — for combining values (e.g., summing)"
      ]
    },
    {
      "cell_type": "markdown",
      "metadata": {},
      "source": [
        "# comparison of List, Set, Frozenset, Tuple, Dict"
      ]
    },
    {
      "cell_type": "markdown",
      "metadata": {},
      "source": [
        "<img alt=\"comparison_data_types.png\" src=\"PNG/comparison_data_types.png\" width=\"565\" height=\"256\" />"
      ]
    },
    {
      "cell_type": "markdown",
      "metadata": {},
      "source": [
        "# list"
      ]
    },
    {
      "cell_type": "code",
      "execution_count": 63,
      "metadata": {},
      "outputs": [
        {
          "data": {
            "text/plain": [
              "list"
            ]
          },
          "execution_count": 63,
          "metadata": {},
          "output_type": "execute_result"
        }
      ],
      "source": [
        "numbers = [1,2,3,4,5,6]\n",
        "\n",
        "numbers.append(3) # add item to the end of the list\n",
        "\n",
        "numbers.remove(1)\n",
        "\n",
        "numbers.extend([4, 5]) # add items to the end of the list\n",
        "\n",
        "numbers.insert(1, 9) # insert item 9 in place of 1\n",
        "\n",
        "numbers.sort(reverse = True)\n",
        "\n",
        "sorted(numbers) # does not change the original, unlike sort()\n",
        "\n",
        "len(numbers)\n",
        "\n",
        "min(numbers)\n",
        "max(numbers)"
      ]
    },
    {
      "cell_type": "code",
      "execution_count": 4,
      "metadata": {},
      "outputs": [
        {
          "name": "stdout",
          "output_type": "stream",
          "text": [
            "['Mr. H. Potter', 'The cupboard under the Stairs', '4 Privet Drive', 'Little Whinging', 'Surrey']\n"
          ]
        }
      ],
      "source": [
        "address = \"Mr. H. Potter,The cupboard under the Stairs,4 Privet Drive,Little Whinging,Surrey\"\n",
        "\n",
        "print(address.split(\",\"))"
      ]
    },
    {
      "cell_type": "code",
      "execution_count": 30,
      "metadata": {},
      "outputs": [
        {
          "name": "stdout",
          "output_type": "stream",
          "text": [
            "4\n"
          ]
        }
      ],
      "source": [
        "expenses_categories = ['restaurant', 'groceries', 'restaurant', 'new computer', 'bar', 'restaurant', 'groceries', 'bar', 'restaurant', 'gift to mom']\n",
        "\n",
        "print(expenses_categories.count('restaurant'))"
      ]
    },
    {
      "cell_type": "code",
      "execution_count": 44,
      "metadata": {},
      "outputs": [
        {
          "name": "stdout",
          "output_type": "stream",
          "text": [
            "1. January\n",
            "2. February\n",
            "3. March\n",
            "4. April\n",
            "5. May\n",
            "6. June\n",
            "7. July\n",
            "8. August\n",
            "9. September\n",
            "10. October\n",
            "11. November\n",
            "12. December\n"
          ]
        }
      ],
      "source": [
        "months = ['January', 'February', 'March', 'April', 'May', 'June', 'July', 'August', 'September', 'October', 'November', 'December']\n",
        "for index, word in enumerate(months):\n",
        "    print(f\"{index + 1}. {word}\")"
      ]
    },
    {
      "cell_type": "code",
      "execution_count": 39,
      "metadata": {},
      "outputs": [
        {
          "name": "stdout",
          "output_type": "stream",
          "text": [
            "Ann Popova 21\n",
            "Peter Ivanov 40\n",
            "Vasya Smirnov 35\n"
          ]
        }
      ],
      "source": [
        "names = ['Ann', 'Peter', 'Vasya']\n",
        "surnames = ['Popova', 'Ivanov', 'Smirnov']\n",
        "ages = [21, 40, 35]\n",
        "\n",
        "for name, surname, age in zip(names, surnames, ages):\n",
        "    print(name, surname, age)"
      ]
    },
    {
      "cell_type": "code",
      "execution_count": 61,
      "metadata": {},
      "outputs": [
        {
          "name": "stdout",
          "output_type": "stream",
          "text": [
            "[('A', 1), ('B', 2), ('C', 3)]\n"
          ]
        }
      ],
      "source": [
        "print(list(zip(\"ABC\", [1, 2, 3])))"
      ]
    },
    {
      "cell_type": "code",
      "execution_count": 31,
      "metadata": {},
      "outputs": [
        {
          "name": "stdout",
          "output_type": "stream",
          "text": [
            "['January', 'February', 'March', 'April', 'May', 'June', 'July', 'August', 'September', 'October', 'November', 'December']\n"
          ]
        },
        {
          "data": {
            "text/plain": [
              "True"
            ]
          },
          "execution_count": 31,
          "metadata": {},
          "output_type": "execute_result"
        }
      ],
      "source": [
        "months = ['December', 'November', 'October', 'September', 'August', 'July', 'June', 'May', 'April', 'March', 'February', 'January']\n",
        "right_order = (months[::-1])\n",
        "\n",
        "print(right_order)\n",
        "\n",
        "'December' in months"
      ]
    },
    {
      "cell_type": "code",
      "execution_count": 36,
      "metadata": {},
      "outputs": [
        {
          "name": "stdout",
          "output_type": "stream",
          "text": [
            "Element is NOT found!\n",
            "False\n"
          ]
        }
      ],
      "source": [
        "my_list = [1,2,5,7,10]\n",
        "\n",
        "def in_list(list_in, obj):\n",
        "    for elem in list_in:\n",
        "        if obj == elem:\n",
        "            print(\"Element is found!\")\n",
        "            return True\n",
        "    print(\"Element is NOT found!\")\n",
        "    return False\n",
        "\n",
        "result = in_list(my_list, 3)\n",
        "print(result)"
      ]
    },
    {
      "cell_type": "code",
      "execution_count": 23,
      "metadata": {},
      "outputs": [
        {
          "name": "stdout",
          "output_type": "stream",
          "text": [
            "2 2\n",
            "4\n"
          ]
        }
      ],
      "source": [
        "a, b = input().split(\" \") # ['2','2']\n",
        "print(a, b)\n",
        "print(int(a) + int(b))"
      ]
    },
    {
      "cell_type": "code",
      "execution_count": 27,
      "metadata": {},
      "outputs": [
        {
          "name": "stdout",
          "output_type": "stream",
          "text": [
            "cat dog cat\n"
          ]
        }
      ],
      "source": [
        "number_of_pages = int(input(\"number_of_pages?\"))\n",
        "\n",
        "titles = []\n",
        "for _ in range(number_of_pages):\n",
        "    titles.append(input(\"title?\"))\n",
        "\n",
        "search_query = input(\"search query?\")\n",
        "\n",
        "for title in titles:\n",
        "    if search_query.lower() in title.lower():\n",
        "        print(title)"
      ]
    },
    {
      "cell_type": "code",
      "execution_count": 28,
      "metadata": {},
      "outputs": [
        {
          "name": "stdout",
          "output_type": "stream",
          "text": [
            "0\n",
            "Semolina 🥣\n",
            "1\n",
            "Buckwheat 🥣\n",
            "2\n",
            "Millet 🥣\n",
            "3\n",
            "Oatmeal 🥣\n",
            "4\n",
            "Rice 🥣\n",
            "5\n",
            "Semolina 🥣\n",
            "6\n",
            "Buckwheat 🥣\n",
            "7\n",
            "Millet 🥣\n",
            "8\n",
            "Oatmeal 🥣\n"
          ]
        }
      ],
      "source": [
        "porridges = [\"Semolina 🥣\", \"Buckwheat 🥣\", \"Millet 🥣\", \"Oatmeal 🥣\", \"Rice 🥣\"]\n",
        "\n",
        "number_of_days = int(input(\"Number of days?\")) # 9\n",
        "\n",
        "for day in range(number_of_days):\n",
        "    print(day)\n",
        "    print(porridges[day % len(porridges)]) # [0 % 5 = 0, - [0] Semolina]"
      ]
    },
    {
      "cell_type": "code",
      "execution_count": 34,
      "metadata": {},
      "outputs": [
        {
          "name": "stdout",
          "output_type": "stream",
          "text": [
            "['2', '3', '4']\n",
            "4 9 16 "
          ]
        }
      ],
      "source": [
        "numbers = []\n",
        "\n",
        "string = input(\"numbers?\")\n",
        "power = int(input(\"power of number?\"))\n",
        "\n",
        "numbers = string.split()\n",
        "print(numbers)\n",
        "\n",
        "for number in numbers:\n",
        "    print(int(number) ** power, end=' ')"
      ]
    },
    {
      "cell_type": "code",
      "execution_count": 35,
      "metadata": {},
      "outputs": [
        {
          "name": "stdout",
          "output_type": "stream",
          "text": [
            "fg...\n",
            "dh...\n"
          ]
        }
      ],
      "source": [
        "number_of_headers = int(input(\"the number of headers?\"))\n",
        "header_length = int(input(\"header length?\"))\n",
        "\n",
        "for i in range(number_of_headers):\n",
        "    header = input(\"header?\")\n",
        "    if len(header) > header_length:\n",
        "        print(header[:header_length-3]+ \"...\")\n",
        "    else:\n",
        "        print(header)"
      ]
    },
    {
      "cell_type": "markdown",
      "metadata": {},
      "source": [
        "# list comprehension ( )\n",
        "# generative expression [ ]\n",
        "# dictionary comprehension { }"
      ]
    },
    {
      "cell_type": "markdown",
      "metadata": {},
      "source": [
        "<img alt=\"GE.LC.PNG\" src=\"PNG/GE.LC.PNG\" width=\"586\" height=\"452\" />"
      ]
    },
    {
      "cell_type": "code",
      "execution_count": 4,
      "metadata": {},
      "outputs": [
        {
          "name": "stdout",
          "output_type": "stream",
          "text": [
            "[11, 22, 33]\n"
          ]
        }
      ],
      "source": [
        "list_1 = [1, 2, 3]\n",
        "list_2 = [10, 20, 30]\n",
        "\n",
        "list_sum = []\n",
        "\n",
        "for a, b in zip(list_1, list_2):\n",
        "    list_sum.append(a+b)\n",
        "    \n",
        "print(list_sum)"
      ]
    },
    {
      "cell_type": "code",
      "execution_count": 3,
      "metadata": {},
      "outputs": [
        {
          "name": "stdout",
          "output_type": "stream",
          "text": [
            "[11, 22, 33]\n"
          ]
        }
      ],
      "source": [
        "list_1 = [1, 2, 3]\n",
        "list_2 = [10, 20, 30]\n",
        "\n",
        "list_sum = [a+b for a,b in zip(list_1, list_2)] # list comprehension\n",
        "\n",
        "print(list_sum)"
      ]
    },
    {
      "cell_type": "code",
      "execution_count": 60,
      "metadata": {},
      "outputs": [
        {
          "name": "stdout",
          "output_type": "stream",
          "text": [
            "[0, 1, 2, 3, 4, 5, 6, 7, 8, 9]\n"
          ]
        }
      ],
      "source": [
        "numbers_list = list(range(10))\n",
        "\n",
        "print(numbers_list)"
      ]
    },
    {
      "cell_type": "code",
      "execution_count": 61,
      "metadata": {},
      "outputs": [
        {
          "name": "stdout",
          "output_type": "stream",
          "text": [
            "[0, 1, 2, 3, 4, 5, 6, 7, 8, 9]\n"
          ]
        }
      ],
      "source": [
        "numbers_list = [i for i in range(10)] # list comprehension\n",
        "\n",
        "print(numbers_list)"
      ]
    },
    {
      "cell_type": "code",
      "execution_count": 210,
      "metadata": {},
      "outputs": [
        {
          "name": "stdout",
          "output_type": "stream",
          "text": [
            "[0, 1, 4, 9, 16, 25, 36, 49, 64, 81, 100]\n"
          ]
        }
      ],
      "source": [
        "squares = []\n",
        "\n",
        "for i in range (11):\n",
        "    squares.append(i**2)\n",
        "\n",
        "print(squares)"
      ]
    },
    {
      "cell_type": "code",
      "execution_count": 211,
      "metadata": {},
      "outputs": [
        {
          "name": "stdout",
          "output_type": "stream",
          "text": [
            "[0, 1, 4, 9, 16, 25, 36, 49, 64, 81, 100]\n"
          ]
        }
      ],
      "source": [
        "squares = [i**2 for i in range(11)] # list comprehension\n",
        "\n",
        "print(squares)"
      ]
    },
    {
      "cell_type": "code",
      "execution_count": 70,
      "metadata": {},
      "outputs": [
        {
          "name": "stdout",
          "output_type": "stream",
          "text": [
            "[1, 4, 9, 16, 25]\n"
          ]
        }
      ],
      "source": [
        "a = 1\n",
        "b = 5\n",
        "square_of_a_number = [ i**2 for i in range(a,b + 1)] # list comprehension\n",
        "print(square_of_a_number)"
      ]
    },
    {
      "cell_type": "code",
      "execution_count": 88,
      "metadata": {},
      "outputs": [
        {
          "name": "stdout",
          "output_type": "stream",
          "text": [
            "[1, 9, 25, 49, 81]\n"
          ]
        }
      ],
      "source": [
        "squares_odd = [i**2 for i in range(11) if i % 2 == 1] # list comprehension\n",
        "\n",
        "print(squares_odd)"
      ]
    },
    {
      "cell_type": "code",
      "execution_count": 73,
      "metadata": {},
      "outputs": [
        {
          "name": "stdout",
          "output_type": "stream",
          "text": [
            "[[1, 2, 3], [2, 4, 6], [3, 6, 9]]\n"
          ]
        }
      ],
      "source": [
        "n = 3\n",
        "multiplication_table = [[(i + 1) * (j + 1) for j in range(n)] for i in range(n)] # list comprehension\n",
        "print(multiplication_table)\n",
        "\n",
        " #              j = 0        j = 1        j = 2\n",
        " # i = 0 -> [(0+1)*(0+1), (0+1)*(1+1), (0+1)*(2+1)]  -> [1, 2, 3]\n",
        " # i = 1 -> [(1+1)*(0+1), (1+1)*(1+1), (1+1)*(2+1)]  -> [2, 4, 6]\n",
        " # i = 2 -> [(2+1)*(0+1), (2+1)*(1+1), (2+1)*(2+1)]  -> [3, 6, 9]"
      ]
    },
    {
      "cell_type": "code",
      "execution_count": 85,
      "metadata": {},
      "outputs": [
        {
          "name": "stdout",
          "output_type": "stream",
          "text": [
            "[3, 3, 7, 3, 5]\n"
          ]
        }
      ],
      "source": [
        "sentence = \"Mom was washing the frame\"\n",
        "\n",
        "the_word_lengths = [len(word) for word in sentence.split()] # list comprehension\n",
        "print(the_word_lengths)"
      ]
    },
    {
      "cell_type": "code",
      "execution_count": 89,
      "metadata": {},
      "outputs": [
        {
          "data": {
            "text/plain": [
              "{'s': 2,\n",
              " 'w': 2,\n",
              " 'f': 1,\n",
              " 'h': 2,\n",
              " 'i': 1,\n",
              " 'a': 3,\n",
              " 'o': 1,\n",
              " 'g': 1,\n",
              " 'm': 3,\n",
              " 't': 1,\n",
              " 'r': 1,\n",
              " 'n': 1,\n",
              " 'e': 2}"
            ]
          },
          "execution_count": 89,
          "metadata": {},
          "output_type": "execute_result"
        }
      ],
      "source": [
        "sentence = \"Mom was washing the frame\"\n",
        "\n",
        "{letter: sentence.lower().count(letter) for letter in set(sentence.lower()) if letter.isalpha()}  # dictionary comprehension"
      ]
    },
    {
      "cell_type": "code",
      "execution_count": 2,
      "metadata": {},
      "outputs": [
        {
          "data": {
            "text/plain": [
              "'RF'"
            ]
          },
          "execution_count": 2,
          "metadata": {},
          "output_type": "execute_result"
        }
      ],
      "source": [
        "string = 'Russian Federation'\n",
        "''.join(word[0].upper() for word in string.split()) # generative expression"
      ]
    },
    {
      "cell_type": "code",
      "execution_count": 1,
      "metadata": {},
      "outputs": [
        {
          "data": {
            "text/plain": [
              "'1 - 2 - 3'"
            ]
          },
          "execution_count": 1,
          "metadata": {},
          "output_type": "execute_result"
        }
      ],
      "source": [
        "numbers = [3, 1, 2, 3, 2, 2, 1]\n",
        "' - '.join([str(num) for num in sorted(set(numbers))]) # list comprehension"
      ]
    },
    {
      "cell_type": "code",
      "execution_count": 46,
      "metadata": {},
      "outputs": [
        {
          "data": {
            "text/plain": [
              "'aabbbc'"
            ]
          },
          "execution_count": 46,
          "metadata": {},
          "output_type": "execute_result"
        }
      ],
      "source": [
        "run_length_encoding = [('a', 2), ('b', 3), ('c', 1)]\n",
        "''.join(char * count for char, count in run_length_encoding) # generative expression"
      ]
    },
    {
      "cell_type": "code",
      "execution_count": 86,
      "metadata": {},
      "outputs": [
        {
          "name": "stdout",
          "output_type": "stream",
          "text": [
            "[[4], [4], [4], [4], [4]]\n"
          ]
        }
      ],
      "source": [
        "matrix = [[int(x) for x in input().split()] for i in range(5)] # list comprehension\n",
        "print(matrix)"
      ]
    },
    {
      "cell_type": "code",
      "execution_count": 48,
      "metadata": {},
      "outputs": [
        {
          "name": "stdout",
          "output_type": "stream",
          "text": [
            "['Belarus', 'Belgium']\n"
          ]
        }
      ],
      "source": [
        "countries = {\"Russia\": [\"Russian\"],\"Belarus\": [\"Belarusian\", \"Russian\"],\"Belgium\": [\"German\", \"French\", \"Dutch\"],\"Vietnam\": [\"Vietnamese\"]}\n",
        "multiple_lang = [country for (country, lang) in countries.items() if len(lang) > 1] # list comprehension\n",
        "print(multiple_lang)"
      ]
    },
    {
      "cell_type": "code",
      "execution_count": 50,
      "metadata": {},
      "outputs": [
        {
          "name": "stdout",
          "output_type": "stream",
          "text": [
            "{'Russia': 'Moscow', 'Belarus': 'Minsk', 'Serbia': 'Belgrade'}\n"
          ]
        }
      ],
      "source": [
        "countries = {country: capital for country, capital in [(\"Russia\", \"Moscow\"),(\"Belarus\", \"Minsk\"),(\"Serbia\", \"Belgrade\")]}\n",
        "print(countries) # dictionary comprehension"
      ]
    },
    {
      "cell_type": "code",
      "execution_count": 51,
      "metadata": {},
      "outputs": [
        {
          "name": "stdout",
          "output_type": "stream",
          "text": [
            "[5, 5, 5, 5, 5]\n"
          ]
        }
      ],
      "source": [
        "numbers = [int(input()) for i in range(5)] # list comprehension\n",
        "print(numbers)"
      ]
    },
    {
      "cell_type": "code",
      "execution_count": 48,
      "metadata": {},
      "outputs": [
        {
          "name": "stdout",
          "output_type": "stream",
          "text": [
            "<generator object <genexpr> at 0x10ae63a00>\n"
          ]
        }
      ],
      "source": [
        "numbers = (int(input()) for i in range(5)) # generative expression\n",
        "print(numbers)"
      ]
    },
    {
      "cell_type": "code",
      "execution_count": 52,
      "metadata": {},
      "outputs": [
        {
          "name": "stdout",
          "output_type": "stream",
          "text": [
            "['Hello, Alice!', 'Hello, Bob!', 'Hello, Charlie!']\n"
          ]
        }
      ],
      "source": [
        "names = ('Alice', 'Bob', 'Charlie')\n",
        "greetings = (f'Hello, {name}!' for name in names) # genarative expression\n",
        "print(list(greetings))"
      ]
    },
    {
      "cell_type": "code",
      "execution_count": 53,
      "metadata": {},
      "outputs": [
        {
          "name": "stdout",
          "output_type": "stream",
          "text": [
            "generator - 104 bytes\n",
            "list - 8000056 bytes\n"
          ]
        }
      ],
      "source": [
        "from sys import getsizeof # returns the size of the memory occupied by an object in bytes\n",
        "\n",
        "numbers_iter = (i for i in range(10 ** 6))\n",
        "print(f\"generator - {getsizeof(numbers_iter)} bytes\")\n",
        "\n",
        "numbers_list = list(range(10 ** 6))\n",
        "print(f\"list - {getsizeof(numbers_list)} bytes\")"
      ]
    },
    {
      "cell_type": "code",
      "execution_count": 63,
      "metadata": {},
      "outputs": [
        {
          "name": "stdout",
          "output_type": "stream",
          "text": [
            "1. painting\n",
            "2. basket\n",
            "3. cardboard\n"
          ]
        }
      ],
      "source": [
        "for index, word in enumerate(input().split(), start=1): # painting basket cardboard\n",
        "    print(f\"{index}. {word}\")"
      ]
    },
    {
      "cell_type": "code",
      "execution_count": 62,
      "metadata": {},
      "outputs": [
        {
          "name": "stdout",
          "output_type": "stream",
          "text": [
            "1. painting\n",
            "2. basket\n",
            "3. cardboard\n"
          ]
        }
      ],
      "source": [
        "print('\\n'.join([f\"{index}. {word}\" for index, word in enumerate(input().split(), 1)])) # painting basket cardboard\n",
        "# list comprehension"
      ]
    },
    {
      "cell_type": "markdown",
      "metadata": {},
      "source": [
        "## generator function"
      ]
    },
    {
      "cell_type": "code",
      "execution_count": null,
      "metadata": {},
      "outputs": [],
      "source": [
        "def fib(n):\n",
        "    n_1, n_2 = 1, 1\n",
        "    for i in range(n):\n",
        "        yield n_1 # each iteration, we return the current value of n_1 and temporarily suspend the execution of the function until the next call\n",
        "        n_1, n_2 = n_2, n_1 + n_2 # the new value, n_1, becomes the current value, n2, and the current n2 becomes the sum of n1 and n2\n",
        "\n",
        "print(\", \".join(str(x) for x in fib(10))) # genarative expression"
      ]
    },
    {
      "cell_type": "code",
      "execution_count": 147,
      "metadata": {},
      "outputs": [
        {
          "name": "stdout",
          "output_type": "stream",
          "text": [
            "0 1 1 2 3\n"
          ]
        }
      ],
      "source": [
        "def fibonacci(num):\n",
        "    a = 0\n",
        "    b = 1\n",
        "    for _ in range(num):\n",
        "        yield a\n",
        "        a, b = b, a + b # yield a = 0, 0, 1 = 1, 0 + 1\n",
        "        \n",
        "print(*fibonacci(5)) # * - unpacks all the values that fibonacci(5) generates"
      ]
    },
    {
      "cell_type": "markdown",
      "metadata": {},
      "source": [
        "# Object-oriented programming (OOP)"
      ]
    },
    {
      "cell_type": "markdown",
      "metadata": {},
      "source": [
        "We have described all actions on an object using functions. This approach to programming is called procedural. However, as tasks become more complicated and new objects appear, the procedural approach leads to duplication and a deterioration in code readability"
      ]
    },
    {
      "cell_type": "code",
      "execution_count": 150,
      "metadata": {},
      "outputs": [
        {
          "name": "stdout",
          "output_type": "stream",
          "text": [
            "The engine is running\n",
            "We drove 100 km. Remaining fuel:45.0 l\n",
            "We drove 100 km. Remaining fuel:35.0 l\n",
            "We drove 100 km. Remaining fuel:25.0 l\n",
            "Low fuel supply\n",
            "Mileage 300 km\n",
            "Fuel supply 25.0 l\n",
            "The engine is stopped\n",
            "The engine is not running\n"
          ]
        }
      ],
      "source": [
        "def create_car(color, consumption, tank_volume, mileage = 0):\n",
        "    return {\n",
        "        \"color\": color,\n",
        "        \"consumption\": consumption,\n",
        "        \"tank_volume\": tank_volume,\n",
        "        \"reserve\": tank_volume,\n",
        "        \"mileage\": mileage,\n",
        "        \"engine_on\": False\n",
        "    }\n",
        "\n",
        "def start_engine(car):\n",
        "    if not car[\"engine_on\"] and car[\"reserve\"] > 0:\n",
        "        car[\"engine_on\"] = True\n",
        "        return \"The engine is running\"\n",
        "    return \"The engine was running\"\n",
        "\n",
        "def stop_engine(car):\n",
        "    if car[\"engine_on\"]:\n",
        "        car[\"engine_on\"] = False\n",
        "        return \"The engine is stopped\"\n",
        "    return \"The engine was stopped\"\n",
        "\n",
        "def drive(car, distance):\n",
        "    if not car[\"engine_on\"]:\n",
        "        return \"The engine is not running\"\n",
        "    if car[\"reserve\"] / car[\"consumption\"] * 100 < distance:\n",
        "        return \"Low fuel supply\"\n",
        "    car[\"mileage\"] += distance\n",
        "    car[\"reserve\"] -= distance / 100 * car[\"consumption\"]\n",
        "    return f\"We drove {distance} km. Remaining fuel:{car['reserve']} l\"\n",
        "\n",
        "def refuel(car):\n",
        "    car[\"reserve\"] = car[\"tank_volume\"]\n",
        "\n",
        "def get_mileage(car):\n",
        "    return f\"Mileage {car['mileage']} km\"\n",
        "\n",
        "def get_reserve(car):\n",
        "    return f\"Fuel supply {car['reserve']} l\"\n",
        "\n",
        "car_1 = create_car(color = \"black\", consumption = 10, tank_volume = 55)\n",
        "\n",
        "print(start_engine(car_1))\n",
        "print(drive(car_1, 100))\n",
        "print(drive(car_1, 100))\n",
        "print(drive(car_1, 100))\n",
        "print(drive(car_1, 300))\n",
        "print(get_mileage(car_1))\n",
        "print(get_reserve(car_1))\n",
        "print(stop_engine(car_1))\n",
        "print(drive(car_1, 100))"
      ]
    },
    {
      "cell_type": "markdown",
      "metadata": {},
      "source": [
        "classes describe the properties of objects and the actions of objects or actions performed on them. The properties of objects are called attributes\n",
        "\n",
        "the actions of objects are called methods"
      ]
    },
    {
      "cell_type": "code",
      "execution_count": 151,
      "metadata": {},
      "outputs": [
        {
          "name": "stdout",
          "output_type": "stream",
          "text": [
            "The engine is running\n",
            "We drove  100 km. Remaining fuel:45.0 l\n",
            "We drove  100 km. Remaining fuel:35.0 l\n",
            "We drove  100 km. Remaining fuel:25.0 l\n",
            "Low fuel supply\n",
            "Mileage 300 km\n",
            "Fuel supply 25.0 l\n",
            "The engine is stopped\n",
            "The engine is not running\n"
          ]
        }
      ],
      "source": [
        "class Car:\n",
        "\n",
        "    def __init__(self, color, consumption, tank_volume, mileage=0): # def <method_name>(self, <arguments>):\n",
        "        # <method body>\n",
        "        self.color = color # <object_name>.<attribute_name> = <value>\n",
        "        self.consumption = consumption\n",
        "        self.tank_volume = tank_volume\n",
        "        self.reserve = tank_volume\n",
        "        self.mileage = mileage\n",
        "        self.engine_on = False\n",
        "        \n",
        "    def start_engine(self):\n",
        "        if not self.engine_on and self.reserve > 0:\n",
        "            self.engine_on = True\n",
        "            return \"The engine is running\"\n",
        "        return \"The engine was running\"\n",
        "\n",
        "    def stop_engine(self):\n",
        "        if self.engine_on:\n",
        "            self.engine_on = False\n",
        "            return \"The engine is stopped\"\n",
        "        return \"The engine was stopped\"\n",
        "\n",
        "    def drive(self, distance):\n",
        "        if not self.engine_on:\n",
        "            return \"The engine is not running\"\n",
        "        if self.reserve / self.consumption * 100 < distance:\n",
        "            return \"Low fuel supply\"\n",
        "        self.mileage += distance\n",
        "        self.reserve -= distance / 100 * self.consumption\n",
        "        return f\"We drove  {distance} km. Remaining fuel:{self.reserve} l\"\n",
        "\n",
        "    def refuel(self):\n",
        "        self.reserve = self.tank_volume\n",
        "\n",
        "    def get_mileage(self):\n",
        "        return self.mileage\n",
        "\n",
        "    def get_reserve(self):\n",
        "        return self.reserve\n",
        "\n",
        "#  PEP 8 - two empty line\n",
        "car_1 = Car(color=\"black\", consumption=10, tank_volume=55)\n",
        "print(car_1.start_engine())\n",
        "print(car_1.drive(100))\n",
        "print(car_1.drive(100))\n",
        "print(car_1.drive(100))\n",
        "print(car_1.drive(300))\n",
        "print(f\"Mileage {car_1.get_mileage()} km\")\n",
        "print(f\"Fuel supply {car_1.get_reserve()} l\")\n",
        "print(car_1.stop_engine())\n",
        "print(car_1.drive(100))"
      ]
    },
    {
      "cell_type": "markdown",
      "metadata": {},
      "source": [
        "# From list to string"
      ]
    },
    {
      "cell_type": "code",
      "execution_count": 32,
      "metadata": {},
      "outputs": [
        {
          "name": "stdout",
          "output_type": "stream",
          "text": [
            "1\n",
            "2.2\n",
            "cat\n",
            "False\n"
          ]
        }
      ],
      "source": [
        "animals = [1, 2.2, 'cat', False]\n",
        "\n",
        "for i in animals: # sequentially selects the list items\n",
        "    print(i)"
      ]
    },
    {
      "cell_type": "code",
      "execution_count": 33,
      "metadata": {},
      "outputs": [
        {
          "name": "stdout",
          "output_type": "stream",
          "text": [
            "cat dog tiger\n"
          ]
        }
      ],
      "source": [
        "animals = ['cat', 'dog', 'tiger']\n",
        "print(' '.join(animals)) # list to a string using the join method"
      ]
    },
    {
      "cell_type": "code",
      "execution_count": 22,
      "metadata": {},
      "outputs": [
        {
          "name": "stdout",
          "output_type": "stream",
          "text": [
            " bkn\n"
          ]
        }
      ],
      "source": [
        "print(''.join(set(input()))) # set to a string using join method"
      ]
    },
    {
      "cell_type": "code",
      "execution_count": 23,
      "metadata": {},
      "outputs": [
        {
          "name": "stdout",
          "output_type": "stream",
          "text": [
            "s f c r j k\n"
          ]
        }
      ],
      "source": [
        "print(' '.join(map(str, set(input())))) # set to a string using the join method"
      ]
    },
    {
      "cell_type": "code",
      "execution_count": 34,
      "metadata": {},
      "outputs": [
        {
          "name": "stdout",
          "output_type": "stream",
          "text": [
            "1 2.2 cat False\n"
          ]
        }
      ],
      "source": [
        "animals = [1, 2.2, 'cat', False]\n",
        "\n",
        "print(' '.join(str(el) for el in animals)) # list to a string using generator expression, each element in the list will be converted to a string using the str() function"
      ]
    },
    {
      "cell_type": "code",
      "execution_count": 35,
      "metadata": {},
      "outputs": [
        {
          "name": "stdout",
          "output_type": "stream",
          "text": [
            "1 2.2 cat False\n"
          ]
        }
      ],
      "source": [
        "animals = [1, 2.2, 'cat', False]\n",
        "\n",
        "print(' '.join(map(str, animals))) # converting a list to a string using map"
      ]
    },
    {
      "cell_type": "markdown",
      "metadata": {},
      "source": [
        "# tuple"
      ]
    },
    {
      "cell_type": "code",
      "execution_count": 13,
      "metadata": {},
      "outputs": [
        {
          "name": "stdout",
          "output_type": "stream",
          "text": [
            "<class 'tuple'>\n",
            "spaghetti\n",
            "('tomatoes', 'onions')\n",
            "spaghetti\n",
            "minced meat\n",
            "tomatoes\n",
            "onions\n"
          ]
        }
      ],
      "source": [
        "spaghetti_bolognese = ('spaghetti', 'minced meat', 'tomatoes', 'onions')\n",
        "\n",
        "print(type(spaghetti_bolognese))\n",
        "\n",
        "print(spaghetti_bolognese[0])\n",
        "print(spaghetti_bolognese[-2:])\n",
        "\n",
        "'tomatoes' in spaghetti_bolognese\n",
        "\n",
        "for ingredient in spaghetti_bolognese:\n",
        "    print(ingredient)"
      ]
    },
    {
      "cell_type": "markdown",
      "metadata": {},
      "source": [
        "# dict"
      ]
    },
    {
      "cell_type": "code",
      "execution_count": 18,
      "metadata": {},
      "outputs": [
        {
          "name": "stdout",
          "output_type": "stream",
          "text": [
            "+7(999)111-11-11\n",
            "{'Maria A': '+7(999)111-11-11', 'Ivan I': '+7(999)222-22-22', 'Sergey S': '+7(999)333-33-33', 'Anna M': '+7(999)444-44-44'}\n",
            "{'Maria A': '+7(999)111-11-11', 'Sergey S': '+7(999)333-33-33', 'Anna M': '+7(999)444-44-44'}\n",
            "{'Maria A': '+7(999)111-11-11', 'Anna M': '+7(999)444-44-44'}\n"
          ]
        },
        {
          "data": {
            "text/plain": [
              "2"
            ]
          },
          "execution_count": 18,
          "metadata": {},
          "output_type": "execute_result"
        }
      ],
      "source": [
        "employees = {'Maria A': '+7(999)111-11-11','Ivan I': '+7(999)222-22-22','Sergey S': '+7(999)333-33-33'}\n",
        "\n",
        "if 'Maria A' in employees:\n",
        "    print(employees['Maria A'])\n",
        "else:\n",
        "    print(\"No such person\")\n",
        "    \n",
        "employees.get('Maria A', 'no phone') # get (key, default)\n",
        "\n",
        "employees['Anna M'] = '+7(999)444-44-44'\n",
        "print(employees)\n",
        "\n",
        "a = employees.pop('Ivan I')\n",
        "print(employees)\n",
        "\n",
        "del(employees['Sergey S'])\n",
        "print(employees)\n",
        "\n",
        "len(employees)\n"
      ]
    },
    {
      "cell_type": "code",
      "execution_count": 258,
      "metadata": {},
      "outputs": [
        {
          "name": "stdout",
          "output_type": "stream",
          "text": [
            "manager\n",
            "developer\n",
            "analyst\n",
            "developer\n",
            "\n",
            "Maria\n",
            "Sergey\n",
            "Ivan\n",
            "Anna\n",
            "\n",
            "Maria manager\n",
            "Sergey developer\n",
            "Ivan analyst\n",
            "Anna developer\n"
          ]
        }
      ],
      "source": [
        "employees = {'Maria': 'manager', 'Sergey': 'developer', 'Ivan': 'analyst', 'Anna': 'developer'}\n",
        "\n",
        "for position in employees.values():\n",
        "    print(position)\n",
        "print()\n",
        "\n",
        "for name in employees.keys():\n",
        "    print(name)\n",
        "print() \n",
        "\n",
        "for name, position in employees.items():\n",
        "    print(name, position)\n",
        "\n"
      ]
    },
    {
      "cell_type": "code",
      "execution_count": 10,
      "metadata": {},
      "outputs": [
        {
          "name": "stdout",
          "output_type": "stream",
          "text": [
            "{'hello': 'привет', 'world': 'мир'}\n",
            "{'hello': 'привет', 'world': 'мир'}\n"
          ]
        }
      ],
      "source": [
        "translations = dict(hello = \"привет\", world = \"мир\")\n",
        "\n",
        "print(translations)\n",
        "\n",
        "translations_2 = dict([ [\"hello\", \"привет\"], [\"world\", \"мир\"] ])\n",
        "\n",
        "print(translations)"
      ]
    },
    {
      "cell_type": "code",
      "execution_count": 12,
      "metadata": {},
      "outputs": [
        {
          "name": "stdout",
          "output_type": "stream",
          "text": [
            "Аня\n"
          ]
        }
      ],
      "source": [
        "students = {'Anna': [10, 9, 10],'Petya': [8, 8, 6],'Sasha': [6, 10, 8]}\n",
        "\n",
        "print(\"Anna\")"
      ]
    },
    {
      "cell_type": "code",
      "execution_count": 36,
      "metadata": {},
      "outputs": [],
      "source": [
        "students = {'Anna': {'матанализ': 10,'программирование': 9,'английский': 10},'Petya': {'матанализ': 8,'программирование': 8,'английский': 6},'Sasha': {'матанализ': 6,'программирование': 10,'английский': 8},}"
      ]
    },
    {
      "cell_type": "code",
      "execution_count": 12,
      "metadata": {},
      "outputs": [
        {
          "name": "stdout",
          "output_type": "stream",
          "text": [
            "... --- ... "
          ]
        }
      ],
      "source": [
        "MORZE = {'A': '.-', 'B': '-...', 'C': '-.-.', 'D': '-..', 'E': '.','F': '..-.', 'G': '--.', 'H': '....', 'I': '..', 'J': '.---', 'K':'-.-', 'L': '.-..', 'M': '--', 'N': '-.', 'O': '---', 'P': '.--.','Q': '--.-', 'R': '.-.', 'S': '...', 'T': '-', 'U': '..-','V': '...-', 'W': '.--', 'X': '-..-', 'Y': '-.--', 'Z': '--..','0': '-----', '1': '.----', '2': '..---', '3': '...--', '4': '....-','5': '.....', '6': '-....', '7': '--...', '8': '---..', '9': '----.'}\n",
        "\n",
        "for i in input():\n",
        "    if i != ' ':\n",
        "        print(MORZE[i.upper()], end=' ')\n",
        "    else:\n",
        "        print()"
      ]
    },
    {
      "cell_type": "code",
      "execution_count": 13,
      "metadata": {},
      "outputs": [
        {
          "name": "stdout",
          "output_type": "stream",
          "text": [
            "3\n",
            "{'князь': 3, 'солдат': 2}\n"
          ]
        }
      ],
      "source": [
        "data = [\"князь\",\"солдат\",\"князь\",\"князь\",\"солдат\"]\n",
        "\n",
        "word_counts = {}\n",
        "\n",
        "for word in data:\n",
        "    word_counts[word] = word_counts.get(word, 0) + 1\n",
        "\n",
        "print(word_counts[\"князь\"])\n",
        "print(word_counts)"
      ]
    },
    {
      "cell_type": "code",
      "execution_count": 32,
      "metadata": {},
      "outputs": [
        {
          "name": "stdout",
          "output_type": "stream",
          "text": [
            "apple juice\n",
            "eggs\n",
            "toasts\n",
            "{'toasts': ['bread', 'jam'], 'eggs': ['eggs', 'bread'], 'apple juice': ['apples']}\n"
          ]
        }
      ],
      "source": [
        "products = []\n",
        "recipes = {}\n",
        "menu = []\n",
        "\n",
        "for _ in range(int(input(\"the number of acceptable products.\"))): # 4\n",
        "    products.append(input(\"products names\")) # apples bread jam eggs\n",
        "\n",
        "for _ in range(int(input(\"the number of recipes\"))): # 3\n",
        "    name = input(\"the name of the dish\") # toasts\n",
        "    ingredients = []\n",
        "    for _ in range(int(input(\"The number of ingredients\"))): # 2\n",
        "        ingredients.append(input(\"Ingredients\")) # bread jam\n",
        "    recipes[name] = recipes.get(name, []) + ingredients\n",
        "\n",
        "for name in recipes:\n",
        "    if (set(recipes[name]) & set(products) == set(recipes[name])):\n",
        "        menu.append(name)\n",
        "\n",
        "if menu:\n",
        "    menu.sort()\n",
        "    for name in menu:\n",
        "        print(name)\n",
        "else:\n",
        "    print(\"There's nothing to cook\")\n",
        "    \n",
        "print(recipes)\n",
        "\n",
        "# eggs\n",
        "# {'toasts': ['bread', 'jam'], 'eggs': ['eggs', 'bread'], 'apple juice': ['apples']}"
      ]
    },
    {
      "cell_type": "markdown",
      "metadata": {},
      "source": [
        "# set"
      ]
    },
    {
      "cell_type": "code",
      "execution_count": 5,
      "metadata": {},
      "outputs": [
        {
          "name": "stdout",
          "output_type": "stream",
          "text": [
            "<class 'set'>\n"
          ]
        }
      ],
      "source": [
        "set1 = set(\"hellohellohellohellohellohellohello\")\n",
        "set1\n"
      ]
    },
    {
      "cell_type": "code",
      "execution_count": 11,
      "metadata": {},
      "outputs": [
        {
          "name": "stdout",
          "output_type": "stream",
          "text": [
            "<class 'set'>\n"
          ]
        }
      ],
      "source": [
        "fruits = {\"apple\", \"orange\", \"grape\"}\n",
        "print(type(fruits))"
      ]
    },
    {
      "cell_type": "code",
      "execution_count": 288,
      "metadata": {},
      "outputs": [
        {
          "name": "stdout",
          "output_type": "stream",
          "text": [
            "<class 'set'>\n",
            "False\n",
            "{'Ann', 'Sasha', 'Kate', 'Olya', 'Ed', 'Peter'}\n",
            "{'Ann', 'Sasha', 'Kate', 'Olya', 'Tanya', 'Ed', 'Peter', 'Dasha'}\n",
            "{'Ann', 'Sasha', 'Kate', 'Olya', 'Tanya', 'Ed', 'Dasha'}\n",
            "{'Ann', 'Sasha', 'Kate', 'Olya', 'Tanya', 'Ed'}\n"
          ]
        }
      ],
      "source": [
        "unique_students = {'Ann', 'Peter', 'Sasha', 'Kate', 'Olya'}\n",
        "\n",
        "print(type(unique_students))\n",
        "print('Миша' in unique_students)\n",
        "\n",
        "unique_students.add('Ed')\n",
        "print(unique_students)\n",
        "\n",
        "new_students = ['Dasha', 'Tanya']\n",
        "unique_students.update(new_students)\n",
        "print(unique_students)\n",
        "\n",
        "unique_students.remove('Peter')\n",
        "print(unique_students)\n",
        "\n",
        "unique_students.discard('Dasha')\n",
        "print(unique_students)"
      ]
    },
    {
      "cell_type": "code",
      "execution_count": 292,
      "metadata": {},
      "outputs": [
        {
          "name": "stdout",
          "output_type": "stream",
          "text": [
            "{'Sasha', 'Kate', 'Ann', 'Olya', 'Tanya', 'Ed', 'Peter', 'Dasha'}\n"
          ]
        }
      ],
      "source": [
        "python = {'Ann', 'Sasha', 'Kate', 'Olya'}\n",
        "ml = {'Tanya', 'Ed', 'Peter', 'Dasha'}\n",
        "\n",
        "python.union(ml) # returns a new set containing all the elements from both sets"
      ]
    },
    {
      "cell_type": "code",
      "execution_count": 297,
      "metadata": {},
      "outputs": [
        {
          "data": {
            "text/plain": [
              "{'Ann'}"
            ]
          },
          "execution_count": 297,
          "metadata": {},
          "output_type": "execute_result"
        }
      ],
      "source": [
        "python = {'Ann', 'Sasha', 'Kate', 'Olya'}\n",
        "ml = {'Tanya', 'Ed', 'Peter', 'Dasha', 'Ann'}\n",
        "\n",
        "python.intersection(ml) # returns a new set containing only those elements that are in both sets\n",
        "python & ml"
      ]
    },
    {
      "cell_type": "code",
      "execution_count": 10,
      "metadata": {},
      "outputs": [
        {
          "name": "stdout",
          "output_type": "stream",
          "text": [
            "act"
          ]
        }
      ],
      "source": [
        "for i in (set(input()) & set(input())): # cats # cactus\n",
        "    print(i, end='')"
      ]
    },
    {
      "cell_type": "code",
      "execution_count": 11,
      "metadata": {},
      "outputs": [
        {
          "name": "stdout",
          "output_type": "stream",
          "text": [
            "act\n"
          ]
        }
      ],
      "source": [
        "print(''.join(set(input()).intersection(set(input())))) # cat # cactus\n",
        "# input, intersection, string"
      ]
    },
    {
      "cell_type": "code",
      "execution_count": 301,
      "metadata": {},
      "outputs": [
        {
          "data": {
            "text/plain": [
              "{'Kate', 'Olya', 'Sasha'}"
            ]
          },
          "execution_count": 301,
          "metadata": {},
          "output_type": "execute_result"
        }
      ],
      "source": [
        "python = {'Ann', 'Sasha', 'Kate', 'Olya'}\n",
        "ml = {'Tanya', 'Ed', 'Peter', 'Dasha', 'Ann'}\n",
        "\n",
        "python.difference(ml) # returns a new set containing all the elements that are in the left set, but which are not in the right set\n",
        "\n",
        "python - ml"
      ]
    },
    {
      "cell_type": "code",
      "execution_count": 304,
      "metadata": {},
      "outputs": [
        {
          "data": {
            "text/plain": [
              "{'Dasha', 'Ed', 'Kate', 'Olya', 'Peter', 'Sasha', 'Tanya'}"
            ]
          },
          "execution_count": 304,
          "metadata": {},
          "output_type": "execute_result"
        }
      ],
      "source": [
        "python = {'Ann', 'Sasha', 'Kate', 'Olya'}\n",
        "ml = {'Tanya', 'Ed', 'Peter', 'Dasha', 'Ann'}\n",
        "\n",
        "python.symmetric_difference(ml) # returns a new set that contains only those elements of each set that do not occur in the other\n",
        "\n",
        "python ^ ml"
      ]
    },
    {
      "cell_type": "code",
      "execution_count": 334,
      "metadata": {},
      "outputs": [
        {
          "name": "stdout",
          "output_type": "stream",
          "text": [
            "[3, 3, 2, 2]\n"
          ]
        }
      ],
      "source": [
        "one_academic_group = ['Boev', 'Shulman', 'Dugov', 'Bagin', 'Yuzhakova', 'Shilova']\n",
        "class_probability_theory = ['Shilova', 'Verin', 'Rasikhina', 'Shulman', 'Bagin', 'Lisov']\n",
        "class_al = ['Lisov', 'Bagin', 'Shilova', 'Yuzhakova', 'Piersov', 'Nilin']\n",
        "\n",
        "result = []\n",
        "\n",
        "group = set(one_academic_group)\n",
        "probability = set(class_probability_theory)\n",
        "al = set(class_al)\n",
        "\n",
        "result.append(len(group.intersection(probability)))\n",
        "result.append(len(group.intersection(al)))\n",
        "result.append(len(group.difference(probability).intersection(group.difference(al))))\n",
        "result.append(len(group.intersection(probability).intersection(al)))\n",
        "\n",
        "print(result) # count the number of students in the group"
      ]
    },
    {
      "cell_type": "code",
      "execution_count": 25,
      "metadata": {},
      "outputs": [
        {
          "name": "stdout",
          "output_type": "stream",
          "text": [
            "There are no such people\n"
          ]
        }
      ],
      "source": [
        "semolina_lovers = int(input(\"The number of children who enjoy eating semolina porridge\")) # 3\n",
        "oatmeal_lovers = int(input(\"The number of children who enjoy eating oatmeal porridge\")) # 2\n",
        "\n",
        "surnames_of_semolina_lovers = set()\n",
        "surnames_of_oatmeal_lovers = set()\n",
        "\n",
        "for _ in range(semolina_lovers):\n",
        "    surnames_of_semolina_lovers.add(input(\"semolina lovers surname?\")) # Vasiliev Petrov Vasechkin\n",
        "\n",
        "for _ in range(oatmeal_lovers):\n",
        "    surnames_of_oatmeal_lovers.add(input(\"oatmeal lovers surname\")) # Ivanov Mikhailov\n",
        "\n",
        "if len(lovers_of_both_cereals := (surnames_of_semolina_lovers & surnames_of_oatmeal_lovers)) != 0:\n",
        "    print(len(lovers_of_both_cereals))\n",
        "else:\n",
        "    print(\"There are no such people\")"
      ]
    },
    {
      "cell_type": "code",
      "execution_count": 26,
      "metadata": {},
      "outputs": [
        {
          "name": "stdout",
          "output_type": "stream",
          "text": [
            "{'ssss', 'dddd', 'bbbbb', 'ddd', 'eeee'} set()\n",
            "bbbbb\n",
            "ddd\n",
            "dddd\n",
            "eeee\n",
            "ssss\n"
          ]
        }
      ],
      "source": [
        "semolina_lovers = int(input(\"The number of children who enjoy eating semolina porridge\")) # 3\n",
        "oatmeal_lovers = int(input(\"The number of children who enjoy eating oatmeal porridge\")) # 2\n",
        "\n",
        "surnames_of_semolina_lovers = set()\n",
        "surnames_of_oatmeal_lovers = set()\n",
        "\n",
        "for _ in range(semolina_lovers + oatmeal_lovers):\n",
        "    eater = input() # Vasiliev Petrov Vasechkin # Ivanov Mikhailov\n",
        "    if eater in surnames_of_semolina_lovers:\n",
        "        surnames_of_oatmeal_lovers.add(eater)\n",
        "    else:\n",
        "        surnames_of_semolina_lovers.add(eater)\n",
        "\n",
        "if len(lovers_of_both_cereals := (surnames_of_semolina_lovers ^ surnames_of_oatmeal_lovers)) != 0:\n",
        "    for eater in sorted(lovers_of_both_cereals):\n",
        "        print(eater)\n",
        "else:\n",
        "    print(\"There are no such people\")"
      ]
    },
    {
      "cell_type": "code",
      "execution_count": 24,
      "metadata": {},
      "outputs": [
        {
          "name": "stdout",
          "output_type": "stream",
          "text": [
            "bunny\n",
            "cubes\n",
            "doll\n",
            "house\n",
            "typewriter\n"
          ]
        }
      ],
      "source": [
        "toys = []\n",
        "unique = []\n",
        "\n",
        "for _ in range(int(input())): # Vova: cubes, typewriter\n",
        "    name, str = input().split(': ') # Anya: doll, car, doll, house\n",
        "    toys.extend(set(str.split(', ')))  # Borya: car, bunny\n",
        "\n",
        "for i in range(len(toys)):\n",
        "    toy = toys.pop(0)\n",
        "    if toy not in toys:\n",
        "        unique.append(toy)\n",
        "    toys.append(toy)\n",
        "\n",
        "print('\\n'.join(sorted(unique)))"
      ]
    },
    {
      "cell_type": "markdown",
      "metadata": {},
      "source": [
        "# Recursion\n",
        "\n",
        "the function calls itself to solve a subtask\n",
        "\n",
        "The recursion depth is the number of nested calls to a recursive function. Each time a function calls itself, the level of recursion increases by one"
      ]
    },
    {
      "cell_type": "markdown",
      "metadata": {},
      "source": [
        "The factorial of a number !\n",
        "The product of all natural numbers from 1 to that number\n",
        "\n",
        "0! = 1\n",
        "\n",
        "n! = 1 * 2 * ... * n, n > 0"
      ]
    },
    {
      "cell_type": "code",
      "execution_count": 56,
      "metadata": {},
      "outputs": [
        {
          "name": "stdout",
          "output_type": "stream",
          "text": [
            "120\n"
          ]
        }
      ],
      "source": [
        "def factorial(n):\n",
        "    number = 1\n",
        "    for i in range(2, n + 1):\n",
        "        number *= i\n",
        "    return number\n",
        "\n",
        "print(factorial(5))"
      ]
    },
    {
      "cell_type": "code",
      "execution_count": 57,
      "metadata": {},
      "outputs": [
        {
          "name": "stdout",
          "output_type": "stream",
          "text": [
            "120\n"
          ]
        }
      ],
      "source": [
        "def factorial(n):\n",
        "    if n == 0:  # 0! = 1\n",
        "        return 1\n",
        "    return factorial(n - 1) * n # recursive - the functions in which these functions themselves are called\n",
        "\n",
        "print(factorial(5))"
      ]
    },
    {
      "cell_type": "code",
      "execution_count": 119,
      "metadata": {},
      "outputs": [
        {
          "name": "stdout",
          "output_type": "stream",
          "text": [
            "The sum of the numbers: 6\n"
          ]
        }
      ],
      "source": [
        "def recursive_sum(*nums): # (1, 2, 3)\n",
        "    while nums[1:]: # (2,3)\n",
        "        return nums[0] + recursive_sum(*nums[1:]) # return 1 + recursive_sum(2, 3)\n",
        "    return nums[0]\n",
        "\n",
        "# return 1 + recursive_sum(2, 3)\n",
        "# return 2 + recursive_sum(3)\n",
        "# return 3\n",
        "\n",
        "# return 2 + return 3\n",
        "# return 1 + (return 2 + return 3)\n",
        "# return 6\n",
        "\n",
        "print(f\"The sum of the numbers: {recursive_sum(1,2,3)}\")"
      ]
    },
    {
      "cell_type": "code",
      "execution_count": 121,
      "metadata": {},
      "outputs": [
        {
          "name": "stdout",
          "output_type": "stream",
          "text": [
            "The sum of the numbers: 6\n"
          ]
        }
      ],
      "source": [
        "def recursive_sum(num):\n",
        "    return num % 10 + recursive_sum(num // 10) if num else 0\n",
        "\n",
        "# if num else 0 - checks if num is zero\n",
        "# %10 - the last digit of the number\n",
        "# // 10 - deletes the last digit\n",
        "\n",
        "print(f\"The sum of the numbers: {recursive_sum(123)}\")"
      ]
    },
    {
      "cell_type": "code",
      "execution_count": 58,
      "metadata": {},
      "outputs": [
        {
          "name": "stdout",
          "output_type": "stream",
          "text": [
            "15\n"
          ]
        }
      ],
      "source": [
        "# Imperative approach - step-by-step instructions and state management\n",
        "\n",
        "sum_result = 0\n",
        "for i in range(1, 6):\n",
        "    sum_result += i\n",
        "    \n",
        "print(sum_result)"
      ]
    },
    {
      "cell_type": "code",
      "execution_count": 59,
      "metadata": {},
      "outputs": [
        {
          "name": "stdout",
          "output_type": "stream",
          "text": [
            "15\n"
          ]
        }
      ],
      "source": [
        "# Declarative approach - description of the desired result\n",
        "\n",
        "sum_result = sum(range(1, 6))\n",
        "print(sum_result)"
      ]
    },
    {
      "cell_type": "markdown",
      "metadata": {},
      "source": [
        "Fibonacci numbers are a sequence of numbers where each number is the sum of the two previous ones\n",
        "\n",
        "The sequence starts with 0 and 1\n",
        "\n",
        "Fn = F(n - 1) + F(n - 2)"
      ]
    },
    {
      "cell_type": "code",
      "execution_count": 61,
      "metadata": {},
      "outputs": [
        {
          "name": "stdout",
          "output_type": "stream",
          "text": [
            "14930352\n"
          ]
        }
      ],
      "source": [
        "def fibonacci(n):\n",
        "    if n in (0, 1):\n",
        "        return 1\n",
        "    return fibonacci(n - 1) + fibonacci(n - 2)\n",
        "\n",
        "print(fibonacci(35))"
      ]
    },
    {
      "cell_type": "code",
      "execution_count": 80,
      "metadata": {},
      "outputs": [
        {
          "name": "stdout",
          "output_type": "stream",
          "text": [
            "Average calculation time: 1.708 с.\n"
          ]
        }
      ],
      "source": [
        "from timeit import timeit # measuring the execution time of small sections of code\n",
        "\n",
        "def fib(n):\n",
        "    if n in (0, 1):\n",
        "        return 1\n",
        "    return fib(n - 1) + fib(n - 2)\n",
        "\n",
        "print(f\"Average calculation time: {round(timeit('fib(35)', number = 10, globals = globals()) / 10, 3)} с.\")\n",
        "\n",
        "# timeit(stmt, number = 1, globals = None), the total execution time of 10 launches fib(35)\n",
        "# / 10 - average time per call\n",
        "# 3 - rounded to three decimal places\n",
        "\n",
        "# stmt - line of code whose execution you want to measure\n",
        "# number — the number of times this code is executed. The default value is 1. (5-10) usually enough to get stable and accurate execution time without long delays\n",
        "# globals - dictionary of global variables, usually globals(), so that timeit knows about variables and functions declared in the current scope\n"
      ]
    },
    {
      "cell_type": "code",
      "execution_count": 64,
      "metadata": {},
      "outputs": [
        {
          "name": "stdout",
          "output_type": "stream",
          "text": [
            "Average calculation time:0.0 с.\n"
          ]
        }
      ],
      "source": [
        "from timeit import timeit\n",
        "\n",
        "def fib(n):\n",
        "    f_1, f = 1, 1\n",
        "    for i in range(n - 1):\n",
        "        f_1, f = f, f_1 + f\n",
        "    return f\n",
        "\n",
        "print(f\"Average calculation time: {round(timeit('fib(35)', number = 10, globals = globals()) / 10, 3)} с.\")"
      ]
    },
    {
      "cell_type": "markdown",
      "metadata": {},
      "source": [
        "The recursive implementation of the function performs many of the same calculations\n",
        "\n",
        "As a result, several recursive branches appear, forming a recursive tree\n",
        "\n",
        "                      fib(4)\n",
        "                    /       \\\n",
        "               fib(3)      fib(2)\n",
        "              /     \\       /     \\\n",
        "         fib(2)  fib(1) fib(1) fib(0)\n",
        "         /    \\\n",
        "     fib(1)  fib(0)\n"
      ]
    },
    {
      "cell_type": "code",
      "execution_count": 86,
      "metadata": {},
      "outputs": [
        {
          "name": "stdout",
          "output_type": "stream",
          "text": [
            "The 35th Fibonacci number is: 14930352 \n",
            "The number of recursive function calls equals: 29860703\n"
          ]
        }
      ],
      "source": [
        "def fib(n):\n",
        "    global count\n",
        "    count += 1\n",
        "    if n in (0, 1):\n",
        "        return 1\n",
        "    return fib(n - 1) + fib(n - 2)\n",
        "\n",
        "count = 0\n",
        "\n",
        "print(f\"The 35th Fibonacci number is: {fib(35)} \\nThe number of recursive function calls equals: {count}\")"
      ]
    },
    {
      "cell_type": "markdown",
      "metadata": {},
      "source": [
        "## caching or memoization"
      ]
    },
    {
      "cell_type": "code",
      "execution_count": 69,
      "metadata": {},
      "outputs": [
        {
          "name": "stdout",
          "output_type": "stream",
          "text": [
            "The 35th Fibonacci number is:14930352.\n",
            "The number of recursive function calls equals:69.\n"
          ]
        }
      ],
      "source": [
        "from timeit import timeit\n",
        "\n",
        "def fib(n):\n",
        "    global count\n",
        "    count += 1\n",
        "    if n not in cash:\n",
        "        cash[n] = fib(n - 1) + fib(n - 2)\n",
        "    return cash[n]\n",
        "\n",
        "count = 0 # counter for the number of calls\n",
        "cash = {0: 1, 1: 1} # fib(0) = 1 и fib(1) = 1\n",
        "\n",
        "print(f\"The 35th Fibonacci number is:{fib(35)}.\")\n",
        "print(f\"The number of recursive function calls equals:{count}.\")"
      ]
    },
    {
      "cell_type": "code",
      "execution_count": 72,
      "metadata": {},
      "outputs": [
        {
          "name": "stdout",
          "output_type": "stream",
          "text": [
            "Average calculation time:2e-06 с.\n"
          ]
        }
      ],
      "source": [
        "from timeit import timeit\n",
        "\n",
        "def fib(n):\n",
        "    global count\n",
        "    count += 1\n",
        "    if n not in cash:\n",
        "        cash[n] = fib(n - 1) + fib(n - 2)\n",
        "    return cash[n]\n",
        "\n",
        "count = 0\n",
        "cash = {0: 1, 1: 1}\n",
        "print(f\"Average calculation time: {round(timeit('fib(35)', number=10, globals=globals()) / 10, 6)} с.\") #35"
      ]
    },
    {
      "cell_type": "code",
      "execution_count": 76,
      "metadata": {},
      "outputs": [
        {
          "name": "stdout",
          "output_type": "stream",
          "text": [
            "Average calculation time:6.8e-05 с.\n"
          ]
        }
      ],
      "source": [
        "from timeit import timeit\n",
        "\n",
        "def fib(n):\n",
        "    if n not in cash:\n",
        "        cash[n] = fib(n - 1) + fib(n - 2)\n",
        "    return cash[n]\n",
        "\n",
        "cash = {0: 1, 1: 1}\n",
        "print(f\"Average calculation time: {round(timeit('fib(1000)', number=10, globals=globals()) / 10, 6)} с.\") # the maximum size of the recursion depth is 1000"
      ]
    },
    {
      "cell_type": "code",
      "execution_count": 81,
      "metadata": {},
      "outputs": [
        {
          "name": "stdout",
          "output_type": "stream",
          "text": [
            "Average calculation time: 0.000193 с\n"
          ]
        }
      ],
      "source": [
        "from timeit import timeit\n",
        "from sys import setrecursionlimit # setting the limit to the maximum recursion depth\n",
        "\n",
        "def fib(n):\n",
        "    if n not in cash:\n",
        "        cash[n] = fib(n - 1) + fib(n - 2)\n",
        "    return cash[n]\n",
        "\n",
        "setrecursionlimit(2000) # even with memoization, more than 1000 recursion levels are required due to double calls. Setting  2000 provides the necessary margin\n",
        "\n",
        "cash = {0: 1, 1: 1}\n",
        "\n",
        "print(f\"Average calculation time: {round(timeit('fib(1000)', number = 10, globals = globals()) / 10, 6)} с\")"
      ]
    },
    {
      "cell_type": "code",
      "execution_count": 111,
      "metadata": {},
      "outputs": [
        {
          "name": "stdout",
          "output_type": "stream",
          "text": [
            "Average calculation time:1.1e-05 с.\n"
          ]
        }
      ],
      "source": [
        "from timeit import timeit\n",
        "from functools import lru_cache\n",
        "\n",
        "@lru_cache(maxsize = 1000) # decorator, When you add it before defining a function, Python automatically applies caching to that function\n",
        "def fib(n):\n",
        "    if n in (0, 1):\n",
        "        return 1\n",
        "    return fib(n - 1) + fib(n - 2)\n",
        "\n",
        "    \n",
        "print(f\"Average calculation time:{round(timeit('fib(35)', number=10, globals=globals()) / 10, 6)} с.\")"
      ]
    },
    {
      "cell_type": "markdown",
      "metadata": {},
      "source": [
        "## decorator\n",
        "\n",
        "An object that extends the capabilities of a function without changing its source code"
      ]
    },
    {
      "cell_type": "code",
      "execution_count": 113,
      "metadata": {},
      "outputs": [
        {
          "name": "stdout",
          "output_type": "stream",
          "text": [
            "('Hello, The first user :!', 1)\n",
            "('Hello, The second user :!', 2)\n"
          ]
        }
      ],
      "source": [
        "def count_calls(func): # function that takes another function as an argument\n",
        "    total = 0 # function сall сounter\n",
        "\n",
        "    def decorated(*args, **kwargs):\n",
        "        nonlocal total # the count from an external function can be changed\n",
        "        total += 1\n",
        "        return func(*args, **kwargs), total\n",
        "    return decorated\n",
        "\n",
        "@count_calls\n",
        "def hello(name):\n",
        "    return f\"Hello, {name}!\"\n",
        "\n",
        "print(hello(\"The first user :\"))\n",
        "print(hello(\"The second user :\"))"
      ]
    },
    {
      "cell_type": "code",
      "execution_count": 138,
      "metadata": {},
      "outputs": [
        {
          "name": "stdout",
          "output_type": "stream",
          "text": [
            "The first part of the sentence, The second part of the sentence\n"
          ]
        }
      ],
      "source": [
        "def second_sentence():\n",
        "    return 'The second part of the sentence'\n",
        "    \n",
        "def first_sentence(sentence):\n",
        "    return sentence + second_sentence()\n",
        "    \n",
        "print(first_sentence(\"The first part of the sentence, \"))"
      ]
    },
    {
      "cell_type": "code",
      "execution_count": 139,
      "metadata": {},
      "outputs": [
        {
          "name": "stdout",
          "output_type": "stream",
          "text": [
            "The first part of the sentence, The second part of the sentence\n"
          ]
        }
      ],
      "source": [
        "def second_sentence():\n",
        "    return 'The second part of the sentence'\n",
        "\n",
        "def first_sentence(function, sentence):\n",
        "    return sentence + function()\n",
        "\n",
        "second_function = second_sentence\n",
        "\n",
        "print(first_sentence(second_function, \"The first part of the sentence, \"))"
      ]
    },
    {
      "cell_type": "code",
      "execution_count": 123,
      "metadata": {},
      "outputs": [
        {
          "name": "stdout",
          "output_type": "stream",
          "text": [
            "The result of the function: 8\n",
            "The result of the function: 16\n"
          ]
        }
      ],
      "source": [
        "def answer(func):\n",
        "    def code(*args, **kwargs):\n",
        "        return f\"The result of the function: {func(*args, **kwargs)}\"\n",
        "    return code\n",
        "\n",
        "@answer\n",
        "def a_plus_b(a, b):\n",
        "    return a + b\n",
        "\n",
        "print(a_plus_b(3, 5))\n",
        "print(a_plus_b(7, 9))"
      ]
    },
    {
      "cell_type": "markdown",
      "metadata": {},
      "source": [
        "# imports"
      ]
    },
    {
      "cell_type": "code",
      "execution_count": 43,
      "metadata": {},
      "outputs": [
        {
          "name": "stdout",
          "output_type": "stream",
          "text": [
            "Year: 2024\n",
            "Month: 10\n",
            "Day: 14\n",
            "\n",
            "Hours: 17\n",
            "Minutes: 40\n",
            "Seconds: 14\n",
            "\n",
            "Today is : 2024-10-14\n",
            "17:40:14\n",
            "\n"
          ]
        }
      ],
      "source": [
        "import datetime\n",
        "\n",
        "now = datetime.datetime.now()\n",
        "formatted_date = now.strftime(\"%Y-%m-%d\\n%H:%M:%S\") # string format time\n",
        "# Y-year, m-month, d-day, H-hour, M-minute, S-seconds \n",
        "\n",
        "print(f\"Year: {now.year}\")\n",
        "print(f\"Month: {now.month}\")\n",
        "print(f\"Day: {now.day}\\n\")\n",
        "\n",
        "print(f\"Hours: {now.hour}\")\n",
        "print(f\"Minutes: {now.minute}\")\n",
        "print(f\"Seconds: {now.second}\\n\")\n",
        "\n",
        "print(f\"Today is : {formatted_date}\\n\")"
      ]
    },
    {
      "cell_type": "code",
      "execution_count": 21,
      "metadata": {},
      "outputs": [
        {
          "name": "stdout",
          "output_type": "stream",
          "text": [
            "3.141592653589793\n",
            "π - rounded 3.1416\n"
          ]
        }
      ],
      "source": [
        "import math as mt\n",
        "from math import pi\n",
        "from math import *\n",
        "\n",
        "print (pi)\n",
        "\n",
        "print(\"π - rounded {:.4f}\".format(pi))"
      ]
    },
    {
      "cell_type": "code",
      "execution_count": 45,
      "metadata": {},
      "outputs": [],
      "source": [
        "from sys import getsizeof # returns the size of the memory occupied by an object in bytes"
      ]
    },
    {
      "cell_type": "code",
      "execution_count": null,
      "metadata": {},
      "outputs": [],
      "source": [
        "from sys import stdin # if you are going to read input from the console, just work with a file\n",
        "\n",
        "lines = []\n",
        "for line in stdin:\n",
        "    lines.append(line)\n",
        "print(lines)\n",
        "\n",
        "# control  + D\n",
        "# ['first\\n', 'senond\\n', 'third']"
      ]
    },
    {
      "cell_type": "code",
      "execution_count": null,
      "metadata": {},
      "outputs": [],
      "source": [
        "from sys import stdin\n",
        "\n",
        "summa = 0\n",
        "for item in stdin.read().split():\n",
        "    summa += int(item)\n",
        "\n",
        "print(summa)"
      ]
    },
    {
      "cell_type": "code",
      "execution_count": null,
      "metadata": {},
      "outputs": [],
      "source": [
        "from sys import stdin\n",
        "\n",
        "summa = sum([int(num) for num in stdin.read().split()])\n",
        "\n",
        "print(summa)"
      ]
    },
    {
      "cell_type": "code",
      "execution_count": null,
      "metadata": {},
      "outputs": [],
      "source": [
        "from sys import stdin\n",
        "\n",
        "strings = stdin.read().split('\\n') # <Name> <Growth a month ago> <Growth now>\n",
        "\n",
        "# ['1 100 150', '2 200 250', '3 300 350']\n",
        "\n",
        "delta = 0 # summation of all the differences between the numbers\n",
        "count = 0 # the number of rows that have been processed\n",
        "\n",
        "# Ann 160 162\n",
        "# Sasha 165 172\n",
        "# Borya 165 165\n",
        "\n",
        "for string in strings:\n",
        "    if string:\n",
        "        _, then, now = string.split() # _, - ignores the first value (Ann, Sasha, Borya)\n",
        "        delta += int(now) - int(then)\n",
        "        count += 1\n",
        "\n",
        "print(round(delta / count)) # The average trend or average change between two numbers across all rows."
      ]
    },
    {
      "cell_type": "code",
      "execution_count": null,
      "metadata": {},
      "outputs": [],
      "source": [
        "from sys import stdin\n",
        "\n",
        "# \"hello # comment\"\n",
        "# hi # comment\n",
        "# # this comment is ignored\n",
        "# world\n",
        "\n",
        "for string in stdin:\n",
        "    if string[0] != '#':\n",
        "        print(string.split('#')[0].rstrip('\\n'))"
      ]
    },
    {
      "cell_type": "code",
      "execution_count": null,
      "metadata": {},
      "outputs": [],
      "source": [
        "from sys import stdin\n",
        "\n",
        " # palindrome\n",
        " \n",
        "words = [word for word in stdin.read().split() if word] # if word - filter to exclude empty lines\n",
        "\n",
        "result = [word for word in sorted(set(words)) if word.lower() == word[::-1].lower()] # lower() - allows to ignore case\n",
        "\n",
        "print(\"\\n\".join(result))"
      ]
    },
    {
      "cell_type": "markdown",
      "metadata": {},
      "source": [
        "# Input - Output"
      ]
    },
    {
      "cell_type": "code",
      "execution_count": 24,
      "metadata": {},
      "outputs": [
        {
          "name": "stdout",
          "output_type": "stream",
          "text": [
            "UTF-8\n",
            "\n",
            "The first line of the document\n",
            "\n",
            "The second line of the document\n",
            "\n",
            "The third line of the same document\n"
          ]
        }
      ],
      "source": [
        "my_file = open(\"my text.txt\", encoding = \"UTF-8\")\n",
        "for line in my_file:\n",
        "    print(line)\n",
        "my_file.close() # be sure to close, or with \"with\""
      ]
    },
    {
      "cell_type": "code",
      "execution_count": 25,
      "metadata": {},
      "outputs": [
        {
          "name": "stdout",
          "output_type": "stream",
          "text": [
            "UTF-8\n",
            "The first line of the document\n",
            "The second line of the document\n",
            "The third line of the same document\n"
          ]
        }
      ],
      "source": [
        "with open(\"my text.txt\", encoding = \"UTF-8\") as my_file: # close with \"with\"\n",
        "    for line in my_file:\n",
        "        print(line.rstrip(\"\\n\")) # rstrip - removes all whitespace characters (spaces, tabs, newlines)"
      ]
    },
    {
      "cell_type": "code",
      "execution_count": 26,
      "metadata": {},
      "outputs": [
        {
          "name": "stdout",
          "output_type": "stream",
          "text": [
            "['UTF-8\\n', 'The first line of the document\\n', 'The second line of the document\\n', 'The third line of the same document']\n"
          ]
        }
      ],
      "source": [
        "with open(\"my text.txt\", encoding = \"UTF-8\") as my_file:\n",
        "    lines = my_file.readlines() # readlines - saves the contents to a list\n",
        "print(lines)"
      ]
    },
    {
      "cell_type": "code",
      "execution_count": 27,
      "metadata": {},
      "outputs": [
        {
          "name": "stdout",
          "output_type": "stream",
          "text": [
            "['UTF-8', 'The first line of the document', 'The second line of the document', 'The third line of the same document']\n"
          ]
        }
      ],
      "source": [
        "with open(\"my text.txt\", encoding = \"UTF-8\") as my_file:\n",
        "    lines = [line.rstrip(\"\\n\") for line in my_file.readlines()] # without \\n\n",
        "print(lines)"
      ]
    },
    {
      "cell_type": "code",
      "execution_count": 31,
      "metadata": {},
      "outputs": [
        {
          "name": "stdout",
          "output_type": "stream",
          "text": [
            "The first \n"
          ]
        }
      ],
      "source": [
        "with open(\"my text.txt\", encoding = \"UTF-8\") as my_file:\n",
        "    symbols = my_file.read(10) # read() - reads the contents of the file and returns them as a string\n",
        "print(symbols)"
      ]
    },
    {
      "cell_type": "code",
      "execution_count": 34,
      "metadata": {},
      "outputs": [
        {
          "name": "stdout",
          "output_type": "stream",
          "text": [
            "71\n"
          ]
        }
      ],
      "source": [
        "with open(\"my text.txt\", \"w\", encoding = \"UTF-8\") as file_out: # \"w\" - the file is being created or overwritt\n",
        "    n = file_out.write(\"The first line\\nAnd here's the second one\\nAnd the third is the last one\\n\")\n",
        "print(n) # write - returns the number of characters written to the file"
      ]
    },
    {
      "cell_type": "code",
      "execution_count": 33,
      "metadata": {},
      "outputs": [],
      "source": [
        "lines = [\"The first line\\n\", \"And here's the second one\\n\", \"And the third is the last one\\n\"]\n",
        "with open(\"my text.txt\", \"w\", encoding = \"UTF-8\") as file_out:\n",
        "    file_out.writelines(lines) # writelines - to write lines from a list to a file"
      ]
    },
    {
      "cell_type": "code",
      "execution_count": 35,
      "metadata": {},
      "outputs": [],
      "source": [
        "with open(\"my text.txt\", \"w\", encoding = \"UTF-8\") as file_out:\n",
        "    print(\"Output to a file\", file = file_out) # print() - output to a file"
      ]
    },
    {
      "cell_type": "code",
      "execution_count": null,
      "metadata": {},
      "outputs": [],
      "source": [
        "alphabet = {\n",
        "    'А': 'A', 'Б': 'B', 'В': 'V', 'Г': 'G', 'Д': 'D', 'Е': 'E', 'Ё': 'E',\n",
        "    'Ж': 'ZH', 'З': 'Z', 'И': 'I', 'Й': 'I', 'К': 'K', 'Л': 'L', 'М': 'M',\n",
        "    'Н': 'N', 'О': 'O', 'П': 'P', 'Р': 'R', 'С': 'S', 'Т': 'T', 'У': 'U',\n",
        "    'Ф': 'F', 'Х': 'KH', 'Ц': 'TC', 'Ч': 'CH', 'Ш': 'SH', 'Щ': 'SHCH',\n",
        "    'Ы': 'Y', 'Э': 'E', 'Ю': 'IU', 'Я': 'IA', 'Ь': '', 'Ъ': ''\n",
        "}\n",
        "\n",
        "data, encoded_data = '', ''\n",
        "\n",
        "with open(\"cyrillic.txt\", encoding=\"UTF-8\") as file_in:\n",
        "    for string in file_in:\n",
        "        data += string # \"Привет, мир!\\nКак дела?\\n\"\n",
        "\n",
        "for char in data:\n",
        "    if char.upper() in alphabet: # converts the character to uppercase\n",
        "        encoded_data += alphabet[char.upper()].lower().capitalize() if char == char.upper() else alphabet[char.upper()].lower()\n",
        "    else:\n",
        "        encoded_data += char\n",
        "\n",
        "with open(\"transliteration.txt\", \"w\", encoding=\"UTF-8\") as file_out:\n",
        "    print(encoded_data, file = file_out)"
      ]
    },
    {
      "cell_type": "code",
      "execution_count": 55,
      "metadata": {},
      "outputs": [
        {
          "name": "stdout",
          "output_type": "stream",
          "text": [
            "14\n",
            "9\n",
            "-5\n",
            "20\n",
            "60\n",
            "4.29\n"
          ]
        }
      ],
      "source": [
        "with open(input(\"The number of file?\"), encoding='UTF-8') as file_in: # numbers.txt\n",
        "    numbers = [int(number) for number in file_in.read().split()]\n",
        "\n",
        "print(length := len(numbers))\n",
        "print(len([number for number in numbers if number > 0]))\n",
        "print(min(numbers))\n",
        "print(max(numbers))\n",
        "print(total := sum(numbers))\n",
        "print(f'{(total / length):.2f}')\n"
      ]
    },
    {
      "cell_type": "code",
      "execution_count": 58,
      "metadata": {},
      "outputs": [],
      "source": [
        "file_1 = input(\"the name of the first file\") # first.txt\n",
        "file_2 = input(\"the name of the second file\") # second.txt\n",
        "file_out = input(\"the name of the results file\") # answer.txt\n",
        "\n",
        "with open(file_1, encoding='UTF-8') as file_in:\n",
        "    items_1 = set([item for item in file_in.read().split()])\n",
        "with open(file_2, encoding='UTF-8') as file_in:\n",
        "    items_2 = set([item for item in file_in.read().split()])\n",
        "\n",
        "unique_items = items_1 ^ items_2\n",
        "\n",
        "with open(file_out, 'w', encoding='UTF-8') as file_name:\n",
        "    print('\\n'.join(sorted(unique_items)), file = file_name)"
      ]
    },
    {
      "cell_type": "code",
      "execution_count": 59,
      "metadata": {},
      "outputs": [],
      "source": [
        "file_in = input(\"the name of the file\") # dirty_file.txt\n",
        "file_out = input(\"the name of the results file\") # dirty_file_out.txt\n",
        "\n",
        "with open(file_in, encoding=\"UTF-8\") as file_in:\n",
        "    text = file_in.read()\n",
        "\n",
        "while text.find(\"\\t\") + 1:\n",
        "    text = text.replace(\"\\t\", \"\")\n",
        "while text.find(\"  \") + 1:\n",
        "    text = text.replace(\"  \", \" \")\n",
        "\n",
        "text = \"\\n\".join(string.strip() for string in text.split(\"\\n\") if string)\n",
        "\n",
        "with open(file_out, \"w\", encoding=\"UTF-8\") as file_out:\n",
        "    file_out.write(text)"
      ]
    },
    {
      "cell_type": "code",
      "execution_count": 60,
      "metadata": {},
      "outputs": [
        {
          "name": "stdout",
          "output_type": "stream",
          "text": [
            "Line 2\n",
            "Line 3\n",
            "Line 4\n",
            "Line 5\n"
          ]
        }
      ],
      "source": [
        "file_name = input(\"the name of the file\").strip() # some_text.txt\n",
        "lines = int(input(\"the number of lines you want to see\"))\n",
        "\n",
        "with open(file_name, encoding='UTF-8') as file:\n",
        "    data = [string for string in file.read().split('\\n') if string]\n",
        "\n",
        "print('\\n'.join(data[-lines:]))"
      ]
    },
    {
      "cell_type": "code",
      "execution_count": 61,
      "metadata": {},
      "outputs": [],
      "source": [
        "input_file = input(\"the name of the file\") # some_numbers.txt\n",
        "evens_file = input() # even.txt\n",
        "odds_file = input() # odd.txt\n",
        "equals_file = input() # eq.txt\n",
        "\n",
        "with open(input_file, encoding=\"UTF-8\") as file:\n",
        "    strings = [string for string in file.read().split(\"\\n\") if string]\n",
        "\n",
        "even_digits = \"02468\"\n",
        "odd_digits = \"13579\"\n",
        "evens_string = ''\n",
        "odds_string = ''\n",
        "equals_string = ''\n",
        "\n",
        "for string in strings:\n",
        "    evens, odds, equals = [], [], []\n",
        "\n",
        "    for number in string.split():\n",
        "        total_evens = total_odds = 0\n",
        "        for char in number:\n",
        "            if char in even_digits:\n",
        "                total_evens += 1\n",
        "            elif char in odd_digits:\n",
        "                total_odds += 1\n",
        "\n",
        "        if total_evens > total_odds:\n",
        "            evens.append(number)\n",
        "        elif total_evens < total_odds:\n",
        "            odds.append(number)\n",
        "        else:\n",
        "            equals.append(number)\n",
        "\n",
        "    evens_string += ' '.join(evens) + '\\n'\n",
        "    odds_string += ' '.join(odds) + '\\n'\n",
        "    equals_string += ' '.join(equals) + '\\n'\n",
        "\n",
        "with open(evens_file, \"w\", encoding=\"UTF-8\") as file:\n",
        "    file.write(evens_string)\n",
        "with open(odds_file, \"w\", encoding=\"UTF-8\") as file:\n",
        "    file.write(odds_string)\n",
        "with open(equals_file, \"w\", encoding=\"UTF-8\") as file:\n",
        "    file.write(equals_string)\n"
      ]
    },
    {
      "cell_type": "markdown",
      "metadata": {},
      "source": [
        "## JSON"
      ]
    },
    {
      "cell_type": "code",
      "execution_count": 36,
      "metadata": {},
      "outputs": [
        {
          "name": "stdout",
          "output_type": "stream",
          "text": [
            "[{'last_name': 'Ivanov', 'first_name': 'Ivan', 'patronymic': 'Ivanovich', 'date_of_birth': '01.01.2001', 'group_number': 1, 'phone_numbers': ['+7 111 111 1111', '+7 111 111 1112']}, {'last_name': 'Petrov', 'first_name': 'Peter', 'patronymic': 'Petrovich', 'date_of_birth': '10.10.2001', 'group_number': 1, 'phone_numbers': ['+7 111 111 1113', '+7 111 111 1114']}]\n"
          ]
        }
      ],
      "source": [
        "import json\n",
        "\n",
        "with open(\"data_file.json\", encoding = \"UTF-8\") as my_file:\n",
        "    records = json.load(my_file) # load - reads a file containing data in JSON format and converts it to Python objects\n",
        "print(records)"
      ]
    },
    {
      "cell_type": "code",
      "execution_count": 40,
      "metadata": {},
      "outputs": [],
      "source": [
        "import json\n",
        "\n",
        "with open(\"data_file.json\", encoding = \"UTF-8\") as my_file:\n",
        "    records = json.load(my_file)\n",
        "records[1][\"group_number\"] = 2\n",
        "with open(\"data_file.output.json\", \"w\", encoding = \"UTF-8\") as file_out:\n",
        "    json.dump(records, file_out, ensure_ascii = False, indent = 2)\n",
        "    \n",
        "    # json.dump(obj, fp) - to a JSON file\n",
        "    # obj: a Python object (for example, a dictionary or a list) that you want to convert to JSON\n",
        "    # fp: a file object\n",
        "    \n",
        "    # ensure_ascii - if False, such characters will be written as characters, not as their codes\n",
        "    # indent - margins"
      ]
    },
    {
      "cell_type": "code",
      "execution_count": 41,
      "metadata": {},
      "outputs": [],
      "source": [
        "import json\n",
        "\n",
        "records = {1: \"First\", # the dictionary keys are automatically converted to the string if they are not already strings\n",
        "           2: \"Second\",\n",
        "           3: \"Third\"}\n",
        "with open(\"output.json\", \"w\", encoding=\"UTF-8\") as file_out:\n",
        "    json.dump(records, file_out, ensure_ascii=False, indent=2)"
      ]
    },
    {
      "cell_type": "code",
      "execution_count": 68,
      "metadata": {},
      "outputs": [],
      "source": [
        "import json\n",
        "\n",
        "file_in = input().strip() # numbers.txt\n",
        "file_out = input().strip() # numbers_out.txt\n",
        "\n",
        "with open(file_in, encoding=\"UTF-8\") as file:\n",
        "    numbers = [int(number) for number in file.read().split()]\n",
        "\n",
        "stat = {\n",
        "    \"count\": (length := len(numbers)),\n",
        "    \"positive_count\": len([number for number in numbers if number > 0]),\n",
        "    \"min\": min(numbers),\n",
        "    \"max\": max(numbers),\n",
        "    \"sum\": (total := sum(numbers)),\n",
        "    \"average\": round(total / length, 2),\n",
        "}\n",
        "\n",
        "with open(file_out, \"w\", encoding=\"UTF-8\") as file:\n",
        "    json.dump(stat, file, ensure_ascii=False, indent=4)"
      ]
    },
    {
      "cell_type": "code",
      "execution_count": null,
      "metadata": {},
      "outputs": [],
      "source": [
        "from sys import stdin\n",
        "import json\n",
        "\n",
        "json_name = input() # some_data.json\n",
        "\n",
        "with open(json_name) as file:\n",
        "    data = json.load(file)\n",
        "\n",
        "lines = stdin.readlines()\n",
        "\n",
        "# one == один\n",
        "# two == два\n",
        "# three == три\n",
        "\n",
        "for line in lines:\n",
        "    if line:\n",
        "        key, value = line.split('==')\n",
        "        data[key.strip()] = value.strip()\n",
        "\n",
        "with open(json_name, 'w') as file:\n",
        "    json.dump(data, file, sort_keys=False, indent=4, ensure_ascii=False)"
      ]
    },
    {
      "cell_type": "markdown",
      "metadata": {},
      "source": [
        "## itertools"
      ]
    },
    {
      "cell_type": "markdown",
      "metadata": {},
      "source": [
        "### endless iterator (count, cycle, islice repeat)"
      ]
    },
    {
      "cell_type": "code",
      "execution_count": 69,
      "metadata": {},
      "outputs": [
        {
          "name": "stdout",
          "output_type": "stream",
          "text": [
            "3.20\n",
            "4.00\n",
            "4.80\n",
            "5.60\n",
            "6.40\n"
          ]
        }
      ],
      "source": [
        "from itertools import count\n",
        "\n",
        "start, stop, step = [float(x) for x in input(\"start, end, step\").split()] # 3.2 6.4 0.8\n",
        "\n",
        "# split - ['3.2', '6.4', '0.8']\n",
        "# float(x) - [3.2, 6.4, 0.8]\n",
        "\n",
        "for num in count(start, step):\n",
        "    if num >= stop:\n",
        "        break\n",
        "    print(f\"{num:.2f}\")"
      ]
    },
    {
      "cell_type": "code",
      "execution_count": 13,
      "metadata": {},
      "outputs": [
        {
          "name": "stdout",
          "output_type": "stream",
          "text": [
            "ABCABCABCA\n"
          ]
        }
      ],
      "source": [
        "from itertools import cycle\n",
        "\n",
        "max_len = 10\n",
        "s = \"\"\n",
        "for letter in cycle(\"ABC\"):\n",
        "    if len(s) < max_len:\n",
        "        s += letter\n",
        "    else:\n",
        "        break\n",
        "print(s)"
      ]
    },
    {
      "cell_type": "code",
      "execution_count": 128,
      "metadata": {},
      "outputs": [
        {
          "name": "stdout",
          "output_type": "stream",
          "text": [
            "Semolina\n",
            "Buckwheat\n",
            "Millet\n"
          ]
        }
      ],
      "source": [
        "from itertools import cycle, islice\n",
        "\n",
        "porridges = [input(\"The name of the porridge\") for _ in range(int(input(\"number of porridges on the menu\")))] # 5 # Semolina Buckwheat Millet Oatmeal Rice\n",
        "\n",
        "days = int(input(\"How many days?\")) # 3\n",
        "\n",
        "print('\\n'.join(islice(cycle(porridges), days))) # * - unlike print(), join() method expects an iterable object and does not require unpacking the elements"
      ]
    },
    {
      "cell_type": "code",
      "execution_count": 15,
      "metadata": {},
      "outputs": [
        {
          "name": "stdout",
          "output_type": "stream",
          "text": [
            "['ABC', 'ABC', 'ABC', 'ABC', 'ABC']\n"
          ]
        }
      ],
      "source": [
        "from itertools import repeat\n",
        "\n",
        "result = list(repeat(\"ABC\", 5)) # repeat(object, times)\n",
        "print(result)"
      ]
    },
    {
      "cell_type": "markdown",
      "metadata": {},
      "source": [
        "### terminating on the shortest input sequence (accumulate, chain, chain.from_iterable)"
      ]
    },
    {
      "cell_type": "code",
      "execution_count": 16,
      "metadata": {},
      "outputs": [
        {
          "name": "stdout",
          "output_type": "stream",
          "text": [
            "1\n",
            "3\n",
            "6\n",
            "10\n",
            "15\n"
          ]
        }
      ],
      "source": [
        "from itertools import accumulate\n",
        "\n",
        "for value in accumulate([1, 2, 3, 4, 5]):\n",
        "    print(value)"
      ]
    },
    {
      "cell_type": "code",
      "execution_count": 74,
      "metadata": {},
      "outputs": [
        {
          "name": "stdout",
          "output_type": "stream",
          "text": [
            "cat \n",
            "cat dog \n",
            "cat dog cat \n"
          ]
        }
      ],
      "source": [
        "from itertools import accumulate\n",
        "\n",
        "print('\\n'.join(list(accumulate([word + ' ' for word in input().split()]))))"
      ]
    },
    {
      "cell_type": "code",
      "execution_count": 17,
      "metadata": {},
      "outputs": [
        {
          "name": "stdout",
          "output_type": "stream",
          "text": [
            "['А', 'Б', 'В', 'Г', 'Д', 'Е', 'Ё', 'Ж', 'З', 'И', 'Й', 'К']\n"
          ]
        }
      ],
      "source": [
        "from itertools import chain\n",
        "\n",
        "values = list(chain(\"АБВ\", \"ГДЕЁ\", \"ЖЗИЙК\")) # asks you to pass each iterable object separately as arguments\n",
        "print(values)"
      ]
    },
    {
      "cell_type": "code",
      "execution_count": 18,
      "metadata": {},
      "outputs": [
        {
          "name": "stdout",
          "output_type": "stream",
          "text": [
            "['А', 'Б', 'В', 'Г', 'Д', 'Е', 'Ё', 'Ж', 'З', 'И', 'Й', 'К']\n"
          ]
        }
      ],
      "source": [
        "from itertools import chain\n",
        "\n",
        "values = list(chain.from_iterable([\"АБВ\", \"ГДЕЁ\", \"ЖЗИЙК\"])) # when you have a single list or other iterable object that contains several other iterable objects within it\n",
        "print(values)"
      ]
    },
    {
      "cell_type": "code",
      "execution_count": 94,
      "metadata": {},
      "outputs": [
        {
          "name": "stdout",
          "output_type": "stream",
          "text": [
            "1. basket\n",
            "2. bread\n",
            "3. cardboard\n",
            "4. cheese\n",
            "5. milk\n",
            "6. painting\n",
            "7. semolina\n",
            "8. soap\n"
          ]
        }
      ],
      "source": [
        "# painting, basket, cardboard, milk\n",
        "# soap, semolina, milk\n",
        "# milk, bread, cheese\n",
        "\n",
        "from itertools import chain\n",
        "\n",
        "lst = sorted(set(chain.from_iterable([item.strip() for item in input(\"Please write down the desired products on three separate lines, separated by commas and whitespace\").split(\", \")] for _ in range(3))))\n",
        "\n",
        "# split(\", \") - [['painting', 'basket', 'cardboard', 'milk'],['soap', 'semolina', 'milk'],['milk', 'bread', 'cheese']] \n",
        "\n",
        "# chain.from_iterable - ['painting', 'basket', 'cardboard', 'milk', 'soap', 'semolina', 'milk', 'milk', 'bread', 'cheese']\n",
        "\n",
        "# set, Unique elements, no order - {'bread', 'soap', 'semolina', 'milk', 'painting', 'cardboard', 'basket', 'cheese'}\n",
        "\n",
        "# sorted - ['basket', 'bread', 'cardboard', 'cheese', 'milk', 'painting', 'semolina', 'soap']\n",
        "\n",
        "for index, value in enumerate(lst, 1):\n",
        "    print(f\"{index}. {value}\")"
      ]
    },
    {
      "cell_type": "markdown",
      "metadata": {},
      "source": [
        "### for combinatorics (product, permutations, combinations, combinations_with_replacement)"
      ]
    },
    {
      "cell_type": "code",
      "execution_count": 123,
      "metadata": {},
      "outputs": [
        {
          "name": "stdout",
          "output_type": "stream",
          "text": [
            "[(1, 'А', 1, 'А'), (1, 'А', 1, 'Б'), (1, 'А', 1, 'В'), (1, 'А', 2, 'А'), (1, 'А', 2, 'Б'), (1, 'А', 2, 'В'), (1, 'А', 3, 'А'), (1, 'А', 3, 'Б'), (1, 'А', 3, 'В'), (1, 'Б', 1, 'А'), (1, 'Б', 1, 'Б'), (1, 'Б', 1, 'В'), (1, 'Б', 2, 'А'), (1, 'Б', 2, 'Б'), (1, 'Б', 2, 'В'), (1, 'Б', 3, 'А'), (1, 'Б', 3, 'Б'), (1, 'Б', 3, 'В'), (1, 'В', 1, 'А'), (1, 'В', 1, 'Б'), (1, 'В', 1, 'В'), (1, 'В', 2, 'А'), (1, 'В', 2, 'Б'), (1, 'В', 2, 'В'), (1, 'В', 3, 'А'), (1, 'В', 3, 'Б'), (1, 'В', 3, 'В'), (2, 'А', 1, 'А'), (2, 'А', 1, 'Б'), (2, 'А', 1, 'В'), (2, 'А', 2, 'А'), (2, 'А', 2, 'Б'), (2, 'А', 2, 'В'), (2, 'А', 3, 'А'), (2, 'А', 3, 'Б'), (2, 'А', 3, 'В'), (2, 'Б', 1, 'А'), (2, 'Б', 1, 'Б'), (2, 'Б', 1, 'В'), (2, 'Б', 2, 'А'), (2, 'Б', 2, 'Б'), (2, 'Б', 2, 'В'), (2, 'Б', 3, 'А'), (2, 'Б', 3, 'Б'), (2, 'Б', 3, 'В'), (2, 'В', 1, 'А'), (2, 'В', 1, 'Б'), (2, 'В', 1, 'В'), (2, 'В', 2, 'А'), (2, 'В', 2, 'Б'), (2, 'В', 2, 'В'), (2, 'В', 3, 'А'), (2, 'В', 3, 'Б'), (2, 'В', 3, 'В'), (3, 'А', 1, 'А'), (3, 'А', 1, 'Б'), (3, 'А', 1, 'В'), (3, 'А', 2, 'А'), (3, 'А', 2, 'Б'), (3, 'А', 2, 'В'), (3, 'А', 3, 'А'), (3, 'А', 3, 'Б'), (3, 'А', 3, 'В'), (3, 'Б', 1, 'А'), (3, 'Б', 1, 'Б'), (3, 'Б', 1, 'В'), (3, 'Б', 2, 'А'), (3, 'Б', 2, 'Б'), (3, 'Б', 2, 'В'), (3, 'Б', 3, 'А'), (3, 'Б', 3, 'Б'), (3, 'Б', 3, 'В'), (3, 'В', 1, 'А'), (3, 'В', 1, 'Б'), (3, 'В', 1, 'В'), (3, 'В', 2, 'А'), (3, 'В', 2, 'Б'), (3, 'В', 2, 'В'), (3, 'В', 3, 'А'), (3, 'В', 3, 'Б'), (3, 'В', 3, 'В')]\n"
          ]
        }
      ],
      "source": [
        "from itertools import product # generates all possible combinations\n",
        "\n",
        "values = list(product([1, 2, 3], \"АБВ\", repeat = 2)) # repetition is possible\n",
        "print(values)"
      ]
    },
    {
      "cell_type": "code",
      "execution_count": 126,
      "metadata": {},
      "outputs": [
        {
          "name": "stdout",
          "output_type": "stream",
          "text": [
            "[(1, 1), (1, 2), (1, 3), (2, 1), (2, 2), (2, 3), (3, 1), (3, 2), (3, 3)]\n"
          ]
        }
      ],
      "source": [
        "from itertools import product # identical elements in different order are not considered to be one combination\n",
        "\n",
        "values = list(product([1, 2, 3], repeat = 2)) # repetition is possible\n",
        "print(values)"
      ]
    },
    {
      "cell_type": "code",
      "execution_count": 124,
      "metadata": {},
      "outputs": [
        {
          "name": "stdout",
          "output_type": "stream",
          "text": [
            "[(1, 2), (1, 3), (2, 1), (2, 3), (3, 1), (3, 2)]\n"
          ]
        }
      ],
      "source": [
        "from itertools import permutations # identical elements in different order are not considered to be one combination\n",
        "\n",
        "values = list(permutations([1, 2, 3], 2)) # repetition is possible\n",
        "print(values)"
      ]
    },
    {
      "cell_type": "code",
      "execution_count": 125,
      "metadata": {},
      "outputs": [
        {
          "name": "stdout",
          "output_type": "stream",
          "text": [
            "[(1, 2), (1, 3), (2, 3)]\n"
          ]
        }
      ],
      "source": [
        "from itertools import combinations # identical elements in different order are considered to be one combination\n",
        "\n",
        "values = list(combinations([1, 2, 3], 2)) # no repetition\n",
        "print(values)"
      ]
    },
    {
      "cell_type": "code",
      "execution_count": 127,
      "metadata": {},
      "outputs": [
        {
          "name": "stdout",
          "output_type": "stream",
          "text": [
            "[(1, 1), (1, 2), (1, 3), (2, 2), (2, 3), (3, 3)]\n"
          ]
        }
      ],
      "source": [
        "from itertools import combinations_with_replacement # # identical elements in different order are considered to be one combination\n",
        "\n",
        "values = list(combinations_with_replacement([1, 2, 3], 2)) # repetition is possible\n",
        "print(values)"
      ]
    },
    {
      "cell_type": "code",
      "execution_count": 87,
      "metadata": {},
      "outputs": [
        {
          "name": "stdout",
          "output_type": "stream",
          "text": [
            "2 clubs\n",
            "2 tambourine\n",
            "2 hearts\n",
            "3 clubs\n",
            "3 tambourine\n",
            "3 hearts\n",
            "4 clubs\n",
            "4 tambourine\n",
            "4 hearts\n",
            "5 clubs\n",
            "5 tambourine\n",
            "5 hearts\n",
            "6 clubs\n",
            "6 tambourine\n",
            "6 hearts\n",
            "7 clubs\n",
            "7 tambourine\n",
            "7 hearts\n",
            "8 clubs\n",
            "8 tambourine\n",
            "8 hearts\n",
            "9 clubs\n",
            "9 tambourine\n",
            "9 hearts\n",
            "10 clubs\n",
            "10 tambourine\n",
            "10 hearts\n",
            "jack clubs\n",
            "jack tambourine\n",
            "jack hearts\n",
            "queen clubs\n",
            "queen tambourine\n",
            "queen hearts\n",
            "king clubs\n",
            "king tambourine\n",
            "king hearts\n",
            "ace clubs\n",
            "ace tambourine\n",
            "ace hearts\n"
          ]
        }
      ],
      "source": [
        "from itertools import product\n",
        "\n",
        "ban = input(\"which card suit should I discard?\")\n",
        "\n",
        "suits = ['spades', 'clubs', 'tambourine', 'hearts']\n",
        "cards = [str(cards) for cards in range(2, 11)] + ['jack', 'queen', 'king', 'ace']\n",
        "\n",
        "# [str(cards) for cards in range(2, 11)] creates a list of strings - ['2', '3', '4', '5', '6', '7', '8', '9', '10'] \n",
        "\n",
        "suits.remove(ban)\n",
        "\n",
        "print('\\n'.join([f'{card} {suit}' for card, suit in list(product(cards, suits))])) # list comprehension\n",
        "\n",
        "# product(cards, suits) - ('2', 'spades'), ('2', 'clubs'), ('2', 'tambourine')\n",
        "# [f'{card} {suit}' for card, suit in list(product(cards, suits))] - ['2 spades', '2 clubs', '2 tambourine', '3 spades', '3 clubs', '3 tambourine', ...]\n",
        "# '\\n'.join - '2 spades\\n2 clubs\\n2 tambourine\\n...'"
      ]
    },
    {
      "cell_type": "code",
      "execution_count": 136,
      "metadata": {},
      "outputs": [
        {
          "name": "stdout",
          "output_type": "stream",
          "text": [
            "1 2 \n",
            "3 4 \n",
            "5 6 \n"
          ]
        }
      ],
      "source": [
        "from itertools import product\n",
        "\n",
        "x = int(input(\"The height of the rectangle?\")) # 3\n",
        "y = int(input(\"Rectangle width?\")) # 2\n",
        "\n",
        "ln = len(str(x * y)) # 6\n",
        "\n",
        "for i, j in product(range(1, x + 1), range(1, y + 1)): # [1, 2, 3] [1, 2]\n",
        "\n",
        "# (1, 1) i, j\n",
        "# (1, 2)\n",
        "# (2, 1)\n",
        "# (2, 2)\n",
        "# (3, 1)\n",
        "# (3, 2)\n",
        "\n",
        "    print(f'{((i - 1) * y + j):>{ln}}', end=' ')\n",
        "    # 1 2 3 4 5 6\n",
        "    if j == y:\n",
        "        print()\n",
        "\n",
        "# 1 2 # ((1 - 1) * 2 + 1) = 1, ((1 - 1) * 2 + 2) = 2, (i = 1, j = 2) 2 is output, and since j == y, a line break occurs\n",
        "# 3 4\n",
        "# 5 6"
      ]
    },
    {
      "cell_type": "code",
      "execution_count": 131,
      "metadata": {},
      "outputs": [
        {
          "name": "stdout",
          "output_type": "stream",
          "text": [
            "1 2 3\n",
            "2 4 6\n",
            "3 6 9\n"
          ]
        }
      ],
      "source": [
        "from itertools import product, islice\n",
        "\n",
        "size = int(input(\"the size of the multiplication table\")) # 3\n",
        "\n",
        "nums = range(1, size + 1)\n",
        "\n",
        "table = [x * y for x, y in product(nums, repeat=2)]\n",
        "\n",
        "# (1, 1), (1, 2), (1, 3), (2, 1), (2, 2), (2, 3), (3, 1), (3, 2), (3, 3)\n",
        "\n",
        "# [1, 2, 3, 2, 4, 6, 3, 6, 9]\n",
        "\n",
        "for row in range(size):\n",
        "    print(*islice(table, row * size, (row + 1) * size)) # (iterated object, start, end)\n",
        "    \n",
        "    # [1, 2, 3] - for the first row (row = 0): extract a slice from index 0 to 3:\n",
        "    # [2, 4, 6]\n",
        "    # [3, 6, 9]\n",
        "    \n",
        "# * - used to unpack extracted items, each element will be passed to print"
      ]
    },
    {
      "cell_type": "code",
      "execution_count": 118,
      "metadata": {},
      "outputs": [
        {
          "name": "stdout",
          "output_type": "stream",
          "text": [
            "Ann - Ivan\n",
            "Ann - Sasha\n",
            "Ivan - Sasha\n"
          ]
        }
      ],
      "source": [
        "from itertools import combinations\n",
        "\n",
        "names = [input(\"The student's name?\") for _ in range(int(input(\"number of students?\")))] # 3 # Ann Ivan Sasha\n",
        "\n",
        "print('\\n'.join([f\"{name1} - {name2}\" for name1, name2 in list(combinations(names, 2))]))  "
      ]
    },
    {
      "cell_type": "code",
      "execution_count": 138,
      "metadata": {},
      "outputs": [
        {
          "name": "stdout",
          "output_type": "stream",
          "text": [
            "Anna, Borya, Ivan\n",
            "Anna, Ivan, Borya\n",
            "Borya, Anna, Ivan\n",
            "Borya, Ivan, Anna\n",
            "Ivan, Anna, Borya\n",
            "Ivan, Borya, Anna\n"
          ]
        }
      ],
      "source": [
        "from itertools import permutations\n",
        "names = []\n",
        "\n",
        "for _ in range(num := int(input(\"number of athletes\"))):\n",
        "    names.extend(input(\"the athlete's name\").split())\n",
        "\n",
        "names.sort()\n",
        "\n",
        "for name_list in permutations(names, num):\n",
        "    print(', '.join(name_list))"
      ]
    },
    {
      "cell_type": "code",
      "execution_count": null,
      "metadata": {},
      "outputs": [],
      "source": [
        "from itertools import chain, permutations, product\n",
        "\n",
        "suit = input(\"suit\").strip() # пики\n",
        "rank = input(\"rank\").strip() # 10\n",
        "\n",
        "suits = {'буби': 'бубен', 'пики': 'пик', 'трефы': 'треф', 'черви': 'червей'}\n",
        "ranks = ['10', '2', '3', '4', '5', '6', '7', '8', '9', 'валет', 'дама', 'король', 'туз']\n",
        "\n",
        "ranks.remove(rank)\n",
        "\n",
        "deck = product(ranks, suits.values())\n",
        "\n",
        "triplets = permutations(deck, 3)\n",
        "\n",
        "triplets = [triplet for triplet in triplets if suits[suit] in chain.from_iterable(triplet)]\n",
        "# triplets.sort()\n",
        "\n",
        "sorted_combinations = sorted(triplets)\n",
        "for combination in sorted_combinations[:10]:\n",
        "    print(', '.join(f'{rank} {suit}' for rank, suit in combination))"
      ]
    },
    {
      "cell_type": "code",
      "execution_count": 139,
      "metadata": {},
      "outputs": [
        {
          "name": "stdout",
          "output_type": "stream",
          "text": [
            "A B C F\n",
            "0 0 0 1\n",
            "0 0 1 1\n",
            "0 1 0 1\n",
            "0 1 1 1\n",
            "1 0 0 0\n",
            "1 0 1 0\n",
            "1 1 0 0\n",
            "1 1 1 1\n"
          ]
        }
      ],
      "source": [
        "from itertools import product\n",
        "\n",
        "expression = input() # not A or B and C\n",
        "\n",
        "variables = [item for item in sorted(set(expression.split())) if item.isupper()]\n",
        "\n",
        "length = len(variables)\n",
        "\n",
        "print(*[v for v in variables], \"F\")\n",
        "\n",
        "for values in product([False, True], repeat=length):\n",
        "    globals = {key: value for key, value in zip(variables, values)}\n",
        "    print(*[int(v) for v in values], int(eval(expression, globals)))"
      ]
    },
    {
      "cell_type": "code",
      "execution_count": 140,
      "metadata": {},
      "outputs": [
        {
          "name": "stdout",
          "output_type": "stream",
          "text": [
            "A B C F\n",
            "0 0 0 0\n",
            "0 0 1 1\n",
            "0 1 0 0\n",
            "0 1 1 1\n",
            "1 0 0 1\n",
            "1 0 1 0\n",
            "1 1 0 0\n",
            "1 1 1 1\n"
          ]
        }
      ],
      "source": [
        "# A logical expression with several variables, Capital Latin letters are variables\n",
        "# not - negation, and - conjunction, or - disjunction, ^ - strict disjunction, => - implication, ~ - equivalence, ( ) - logical brackets\n",
        "\n",
        "from itertools import product\n",
        "\n",
        "OPERATORS = {'not': 'not','and': 'and','or': 'or','^': '!=','->': '<=','~': '==',}\n",
        "\n",
        "PRIORITY = {'not': 0,'and': 1,'or': 2,'^': 3,'->': 4,'~': 5,'(': 6,}\n",
        "\n",
        "def parse_expression(expression, variables):\n",
        "    stack = []\n",
        "    result = []\n",
        "\n",
        "    expression = expression.replace('(', '( ').replace(')', ' )')\n",
        "\n",
        "    for item in expression.split():\n",
        "        if item in variables:\n",
        "            result.append(item)\n",
        "        elif item == '(':\n",
        "            stack.append(item)\n",
        "        elif item == ')':\n",
        "            while stack[-1] != '(':\n",
        "                result.append(OPERATORS[stack.pop()])\n",
        "            stack.pop()\n",
        "        elif item in OPERATORS:\n",
        "            while stack and PRIORITY[item] >= PRIORITY[stack[-1]]:\n",
        "                result.append(OPERATORS[stack.pop()])\n",
        "            stack.append(item)\n",
        "    while stack:\n",
        "        result.append(OPERATORS[stack.pop()])\n",
        "    return result\n",
        "\n",
        "\n",
        "def evaluate(expression, variables):\n",
        "    stack = []\n",
        "    for item in expression:\n",
        "        if item in variables:\n",
        "            stack.append(variables[item])\n",
        "        else:\n",
        "            if item == 'not':\n",
        "                stack.append(not stack.pop())\n",
        "            else:\n",
        "                variable2, variable1 = stack.pop(), stack.pop()\n",
        "                stack.append(eval(f'{variable1} {item} {variable2}'))  # noqa\n",
        "    return int(stack.pop())\n",
        "\n",
        "\n",
        "expression = input() # A -> B ~ C\n",
        "variables = sorted(set([item for item in expression if item.isupper()]))\n",
        "parsed_expression = parse_expression(expression, variables)\n",
        "table = product([0, 1], repeat=len(variables))\n",
        "\n",
        "print(*variables, 'F')\n",
        "for values in table:\n",
        "    globals = {key: value for key, value in zip(variables, values)}\n",
        "    print(*values, evaluate(parsed_expression, globals))"
      ]
    },
    {
      "cell_type": "markdown",
      "metadata": {},
      "source": [
        "# useful"
      ]
    },
    {
      "cell_type": "code",
      "execution_count": 37,
      "metadata": {},
      "outputs": [],
      "source": [
        "def read_data():\n",
        "    data = open('war_peace_processed.txt', 'rt').read() # rt (text reading mode), read() - reads the contents of the file as one large line (with \\n)\n",
        "    return data.split('\\n')"
      ]
    },
    {
      "cell_type": "code",
      "execution_count": null,
      "metadata": {},
      "outputs": [],
      "source": [
        "def open_doors():\n",
        "    pass"
      ]
    },
    {
      "cell_type": "code",
      "execution_count": 19,
      "metadata": {},
      "outputs": [
        {
          "name": "stdout",
          "output_type": "stream",
          "text": [
            "Student’s mark was not found!\n"
          ]
        },
        {
          "ename": "KeyError",
          "evalue": "'Pavlov'",
          "output_type": "error",
          "traceback": [
            "\u001b[0;31m---------------------------------------------------------------------------\u001b[0m",
            "\u001b[0;31mKeyError\u001b[0m                                  Traceback (most recent call last)",
            "Input \u001b[0;32mIn [19]\u001b[0m, in \u001b[0;36m<cell line: 9>\u001b[0;34m()\u001b[0m\n\u001b[1;32m      6\u001b[0m \u001b[38;5;28;01mexcept\u001b[39;00m \u001b[38;5;167;01mKeyError\u001b[39;00m:\n\u001b[1;32m      7\u001b[0m    \u001b[38;5;28mprint\u001b[39m(\u001b[38;5;124m\"\u001b[39m\u001b[38;5;124mStudent’s mark was not found!\u001b[39m\u001b[38;5;124m\"\u001b[39m)\n\u001b[0;32m----> 9\u001b[0m \u001b[38;5;28mprint\u001b[39m(\u001b[43mgrades\u001b[49m\u001b[43m[\u001b[49m\u001b[38;5;124;43m'\u001b[39;49m\u001b[38;5;124;43mPavlov\u001b[39;49m\u001b[38;5;124;43m'\u001b[39;49m\u001b[43m]\u001b[49m)\n",
            "\u001b[0;31mKeyError\u001b[0m: 'Pavlov'"
          ]
        }
      ],
      "source": [
        "grades = {'Ivanov': 5, 'Smirnov': 3, 'Kuznetsova': 4, 'Tihonova': 5}\n",
        "\n",
        "try:\n",
        "   print(grades['Pavlov'])\n",
        "\n",
        "except KeyError:\n",
        "   print(\"Student’s mark was not found!\")\n",
        "   \n",
        "print(grades['Pavlov'])"
      ]
    },
    {
      "cell_type": "code",
      "execution_count": 23,
      "metadata": {},
      "outputs": [
        {
          "ename": "ValueError",
          "evalue": "Distance or speed cannot be below 0!",
          "output_type": "error",
          "traceback": [
            "\u001b[0;31m---------------------------------------------------------------------------\u001b[0m",
            "\u001b[0;31mValueError\u001b[0m                                Traceback (most recent call last)",
            "Input \u001b[0;32mIn [23]\u001b[0m, in \u001b[0;36m<cell line: 7>\u001b[0;34m()\u001b[0m\n\u001b[1;32m      4\u001b[0m    result \u001b[38;5;241m=\u001b[39m distance \u001b[38;5;241m/\u001b[39m speed\n\u001b[1;32m      5\u001b[0m    \u001b[38;5;28;01mreturn\u001b[39;00m result\n\u001b[0;32m----> 7\u001b[0m \u001b[43mget_time\u001b[49m\u001b[43m(\u001b[49m\u001b[38;5;241;43m-\u001b[39;49m\u001b[38;5;241;43m25\u001b[39;49m\u001b[43m,\u001b[49m\u001b[43m \u001b[49m\u001b[38;5;241;43m100\u001b[39;49m\u001b[43m)\u001b[49m\n",
            "Input \u001b[0;32mIn [23]\u001b[0m, in \u001b[0;36mget_time\u001b[0;34m(distance, speed)\u001b[0m\n\u001b[1;32m      1\u001b[0m \u001b[38;5;28;01mdef\u001b[39;00m \u001b[38;5;21mget_time\u001b[39m(distance, speed):\n\u001b[1;32m      2\u001b[0m    \u001b[38;5;28;01mif\u001b[39;00m distance \u001b[38;5;241m<\u001b[39m \u001b[38;5;241m0\u001b[39m \u001b[38;5;129;01mor\u001b[39;00m speed \u001b[38;5;241m<\u001b[39m \u001b[38;5;241m0\u001b[39m:\n\u001b[0;32m----> 3\u001b[0m        \u001b[38;5;28;01mraise\u001b[39;00m \u001b[38;5;167;01mValueError\u001b[39;00m(\u001b[38;5;124m\"\u001b[39m\u001b[38;5;124mDistance or speed cannot be below 0!\u001b[39m\u001b[38;5;124m\"\u001b[39m) \u001b[38;5;66;03m# returns an exception object\u001b[39;00m\n\u001b[1;32m      4\u001b[0m    result \u001b[38;5;241m=\u001b[39m distance \u001b[38;5;241m/\u001b[39m speed\n\u001b[1;32m      5\u001b[0m    \u001b[38;5;28;01mreturn\u001b[39;00m result\n",
            "\u001b[0;31mValueError\u001b[0m: Distance or speed cannot be below 0!"
          ]
        }
      ],
      "source": [
        "def get_time(distance, speed):\n",
        "   if distance < 0 or speed < 0:\n",
        "       raise ValueError(\"Distance or speed cannot be below 0!\") # returns an exception object\n",
        "   result = distance / speed\n",
        "   return result\n",
        "\n",
        "get_time(-25, 100)"
      ]
    },
    {
      "cell_type": "code",
      "execution_count": null,
      "metadata": {},
      "outputs": [],
      "source": [
        "help() # documentation"
      ]
    }
  ],
  "metadata": {
    "colab": {
      "provenance": []
    },
    "kernelspec": {
      "display_name": "Python 3",
      "name": "python3"
    },
    "language_info": {
      "codemirror_mode": {
        "name": "ipython",
        "version": 3
      },
      "file_extension": ".py",
      "mimetype": "text/x-python",
      "name": "python",
      "nbconvert_exporter": "python",
      "pygments_lexer": "ipython3",
      "version": "3.10.11"
    }
  },
  "nbformat": 4,
  "nbformat_minor": 0
}
