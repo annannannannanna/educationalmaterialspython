from sys import stdin
import json

json_name = input() # some_data.json

with open(json_name) as file:
    data = json.load(file)

lines = stdin.readlines()

# one == один
# two == два
# three == три

for line in lines:
    if line:
        key, value = line.split('==')
        data[key.strip()] = value.strip()

with open(json_name, 'w') as file:
    json.dump(data, file, sort_keys=False, indent=4, ensure_ascii=False)